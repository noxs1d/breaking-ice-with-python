{
 "cells": [
  {
   "cell_type": "markdown",
   "id": "4e473ef9-c3c5-4888-b927-fca2d04d0bfd",
   "metadata": {},
   "source": [
    "# Question 90\n",
    "---\n",
    ">Please write a program which count and print the numbers of each character in a string input by console.\n",
    "\n",
    ">Example: If the following string is given as input to the program:\n",
    "\n",
    "```abcdefgabc```\n",
    ">Then, the output of the program should be:\n",
    "\n",
    "    a,2\n",
    "    c,2\n",
    "    b,2\n",
    "    e,1\n",
    "    d,1\n",
    "    g,1\n",
    "    f,1\n",
    "### Hints\n",
    ">Use dict to store key/value pairs. Use dict.get() method to lookup a key with default value."
   ]
  },
  {
   "cell_type": "code",
   "execution_count": 1,
   "id": "42a00c66-e3f5-4666-b4be-03ac0f2284b9",
   "metadata": {},
   "outputs": [
    {
     "name": "stdin",
     "output_type": "stream",
     "text": [
      " abscad\n"
     ]
    },
    {
     "ename": "AttributeError",
     "evalue": "'dict' object has no attribute 'sort'",
     "output_type": "error",
     "traceback": [
      "\u001b[1;31m---------------------------------------------------------------------------\u001b[0m",
      "\u001b[1;31mAttributeError\u001b[0m                            Traceback (most recent call last)",
      "Cell \u001b[1;32mIn[1], line 9\u001b[0m\n\u001b[0;32m      6\u001b[0m     \u001b[38;5;28;01melse\u001b[39;00m:\n\u001b[0;32m      7\u001b[0m         dct[i]\u001b[38;5;241m+\u001b[39m\u001b[38;5;241m=\u001b[39m\u001b[38;5;241m1\u001b[39m\n\u001b[1;32m----> 9\u001b[0m dct\u001b[38;5;241m=\u001b[39m\u001b[43mdct\u001b[49m\u001b[38;5;241;43m.\u001b[39;49m\u001b[43msort\u001b[49m(\u001b[38;5;28;01mlambda\u001b[39;00m x: dct\u001b[38;5;241m.\u001b[39mvalues(x))\n",
      "\u001b[1;31mAttributeError\u001b[0m: 'dict' object has no attribute 'sort'"
     ]
    }
   ],
   "source": [
    "data=input()\n",
    "dct=dict()\n",
    "for i in data:\n",
    "    if i not in dct:\n",
    "        dct[i]=1\n",
    "    else:\n",
    "        dct[i]+=1\n",
    "\n",
    "dct=dct.sort(lambda x: dct.values(x))"
   ]
  },
  {
   "cell_type": "code",
   "execution_count": null,
   "id": "2134baaa-ea67-4bcc-8b4e-c04534da547b",
   "metadata": {},
   "outputs": [],
   "source": []
  }
 ],
 "metadata": {
  "kernelspec": {
   "display_name": "Python 3 (ipykernel)",
   "language": "python",
   "name": "python3"
  },
  "language_info": {
   "codemirror_mode": {
    "name": "ipython",
    "version": 3
   },
   "file_extension": ".py",
   "mimetype": "text/x-python",
   "name": "python",
   "nbconvert_exporter": "python",
   "pygments_lexer": "ipython3",
   "version": "3.12.4"
  }
 },
 "nbformat": 4,
 "nbformat_minor": 5
}
