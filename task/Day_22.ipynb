{
 "cells": [
  {
   "cell_type": "markdown",
   "id": "4e473ef9-c3c5-4888-b927-fca2d04d0bfd",
   "metadata": {},
   "source": [
    "# Question 90\n",
    "---\n",
    ">Please write a program which count and print the numbers of each character in a string input by console.\n",
    "\n",
    ">Example: If the following string is given as input to the program:\n",
    "\n",
    "```abcdefgabc```\n",
    ">Then, the output of the program should be:\n",
    "\n",
    "    a,2\n",
    "    c,2\n",
    "    b,2\n",
    "    e,1\n",
    "    d,1\n",
    "    g,1\n",
    "    f,1\n",
    "### Hints\n",
    ">Use dict to store key/value pairs. Use dict.get() method to lookup a key with default value."
   ]
  },
  {
   "cell_type": "code",
   "execution_count": 8,
   "id": "42a00c66-e3f5-4666-b4be-03ac0f2284b9",
   "metadata": {},
   "outputs": [
    {
     "name": "stdin",
     "output_type": "stream",
     "text": [
      " abcdefgabc\n"
     ]
    },
    {
     "name": "stdout",
     "output_type": "stream",
     "text": [
      "a,2\n",
      "b,2\n",
      "c,2\n",
      "d,1\n",
      "e,1\n",
      "f,1\n",
      "g,1\n"
     ]
    }
   ],
   "source": [
    "data=input()\n",
    "dct=dict()\n",
    "for i in data:\n",
    "    if i not in dct:\n",
    "        dct[i]=1\n",
    "    else:\n",
    "        dct[i]+=1\n",
    "for i in dct:\n",
    "    print(f\"{i},{dct[i]}\")"
   ]
  },
  {
   "cell_type": "markdown",
   "id": "3e586119-ea3d-4171-bb06-d63e69dbaca6",
   "metadata": {},
   "source": [
    "# Question 91\n",
    "---\n",
    ">Please write a program which accepts a string from console and print it in reverse order.\n",
    "\n",
    ">Example: If the following string is given as input to the program:*\n",
    "\n",
    "```rise to vote sir```\n",
    "\n",
    ">Then, the output of the program should be:\n",
    "\n",
    "```ris etov ot esir```\n",
    "### Hints\n",
    ">Use list[::-1] to iterate a list in a reverse order."
   ]
  },
  {
   "cell_type": "code",
   "execution_count": 11,
   "id": "f731016c-7b42-4ec6-96ee-5c0af901371e",
   "metadata": {},
   "outputs": [
    {
     "name": "stdin",
     "output_type": "stream",
     "text": [
      " rise to vote sir\n"
     ]
    },
    {
     "name": "stdout",
     "output_type": "stream",
     "text": [
      "ris etov ot esir\n"
     ]
    }
   ],
   "source": [
    "data=input().split()\n",
    "lst=list()\n",
    "for word in data:\n",
    "    lst.append(word[::-1])\n",
    "\n",
    "print(\" \".join(lst[::-1]))"
   ]
  },
  {
   "cell_type": "markdown",
   "id": "e9fbadcb-8e32-48d4-b46c-d3c1e1be5784",
   "metadata": {},
   "source": [
    "# Question 92\n",
    "---\n",
    ">Please write a program which accepts a string from console and print the characters that have even indexes.\n",
    "\n",
    ">Example: If the following string is given as input to the program:\n",
    "\n",
    "    H1e2l3l4o5w6o7r8l9d\n",
    ">Then, the output of the program should be:\n",
    "\n",
    "    Helloworld\n",
    "### Hints\n",
    ">Use list[::2] to iterate a list by step 2."
   ]
  },
  {
   "cell_type": "code",
   "execution_count": 13,
   "id": "2ba9f4b9-f61e-405d-ad52-e5ff6c0643ca",
   "metadata": {},
   "outputs": [
    {
     "name": "stdin",
     "output_type": "stream",
     "text": [
      " H1e2l3l4o5w6o7r8l9d\n"
     ]
    },
    {
     "name": "stdout",
     "output_type": "stream",
     "text": [
      "Helloworld\n"
     ]
    }
   ],
   "source": [
    "data=input()\n",
    "print(data[::2])"
   ]
  },
  {
   "cell_type": "markdown",
   "id": "16dc2ed4-48ed-44f9-ad0a-176083f9c2f0",
   "metadata": {},
   "source": [
    "# Question 93\n",
    "---\n",
    ">Please write a program which prints all permutations of [1,2,3]\n",
    "\n",
    "### Hints\n",
    ">Use itertools.permutations() to get permutations of list."
   ]
  },
  {
   "cell_type": "code",
   "execution_count": 17,
   "id": "a935f966-da94-4d0c-b528-68c06fd361dc",
   "metadata": {},
   "outputs": [
    {
     "name": "stdout",
     "output_type": "stream",
     "text": [
      "[(1, 2, 3), (1, 3, 2), (2, 1, 3), (2, 3, 1), (3, 1, 2), (3, 2, 1)]\n"
     ]
    }
   ],
   "source": [
    "import itertools\n",
    "x=list(itertools.permutations([1,2,3]))\n",
    "print(x)"
   ]
  },
  {
   "cell_type": "markdown",
   "id": "075d4ba3-4dfb-4391-8f02-65e4bf0e307a",
   "metadata": {},
   "source": [
    "# Question 94\n",
    "---\n",
    ">Write a program to solve a classic ancient Chinese puzzle: We count 35 heads and 94 legs among the chickens and rabbits in a farm. How many rabbits and how many chickens do we have?\n",
    "\n",
    "### Hints\n",
    ">Use for loop to iterate all possible solutions."
   ]
  },
  {
   "cell_type": "code",
   "execution_count": 20,
   "id": "3096f633-3900-4354-8569-455473aa6aff",
   "metadata": {},
   "outputs": [
    {
     "name": "stdin",
     "output_type": "stream",
     "text": [
      " 35\n",
      " 94\n"
     ]
    },
    {
     "name": "stdout",
     "output_type": "stream",
     "text": [
      "rabbits 12 \n",
      "chickens 23\n"
     ]
    }
   ],
   "source": [
    "heads=int(input())\n",
    "legs=int(input())\n",
    "for i in range(heads+1):\n",
    "    if i*4+(35-i)*2==legs:\n",
    "        print(f\"rabbits {i} \\nchickens {35-i}\")\n",
    "    \n"
   ]
  },
  {
   "cell_type": "code",
   "execution_count": null,
   "id": "aecdb5b0-37ab-499d-93cd-5aef8a93e611",
   "metadata": {},
   "outputs": [],
   "source": []
  }
 ],
 "metadata": {
  "kernelspec": {
   "display_name": "Python 3 (ipykernel)",
   "language": "python",
   "name": "python3"
  },
  "language_info": {
   "codemirror_mode": {
    "name": "ipython",
    "version": 3
   },
   "file_extension": ".py",
   "mimetype": "text/x-python",
   "name": "python",
   "nbconvert_exporter": "python",
   "pygments_lexer": "ipython3",
   "version": "3.12.4"
  }
 },
 "nbformat": 4,
 "nbformat_minor": 5
}
