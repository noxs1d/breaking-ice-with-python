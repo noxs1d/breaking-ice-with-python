{
 "cells": [
  {
   "cell_type": "markdown",
   "id": "e47a555f-7c20-4ac3-bf75-2811bd04ca1c",
   "metadata": {},
   "source": [
    "# Question 47\n",
    "---\n",
    "> Define a class named Circle which can be constructed by a radius. The Circle class has a method which can compute the area."
   ]
  },
  {
   "cell_type": "code",
   "execution_count": 1,
   "id": "de54c8f4-ffbc-4ba6-afd6-41892798e251",
   "metadata": {},
   "outputs": [
    {
     "name": "stdout",
     "output_type": "stream",
     "text": [
      "12.56\n"
     ]
    }
   ],
   "source": [
    "class Circle():\n",
    "    def __init__(self, radius:float):\n",
    "        self.radius=radius\n",
    "\n",
    "    def area(self):\n",
    "        return self.radius**2*3.14\n",
    "\n",
    "circle=Circle(2)\n",
    "print(circle.area())"
   ]
  },
  {
   "cell_type": "markdown",
   "id": "4afcb3ee-fe60-420c-b5db-ca2b150761b0",
   "metadata": {},
   "source": [
    "# Question 48\n",
    "---\n",
    ">Define a class named Rectangle which can be constructed by a length and width. The Rectangle class has a method which can compute the area."
   ]
  },
  {
   "cell_type": "code",
   "execution_count": 2,
   "id": "b5531546-2e81-49b3-8cd4-177e1e4a5cf1",
   "metadata": {},
   "outputs": [
    {
     "name": "stdout",
     "output_type": "stream",
     "text": [
      "30\n"
     ]
    }
   ],
   "source": [
    "class Rectangle():\n",
    "    def __init__(self,length, width):\n",
    "        self.length=length\n",
    "        self.width=width\n",
    "\n",
    "    def area(self):\n",
    "        return self.length*self.width\n",
    "\n",
    "rec=Rectangle(5,6)\n",
    "print(rec.area())"
   ]
  },
  {
   "cell_type": "markdown",
   "id": "e68ec385-c248-489c-831c-4c7d45375a31",
   "metadata": {},
   "source": [
    "# Question 49\n",
    "---\n",
    "> Define a class named Shape and its subclass Square. The Square class has an init function which takes a length as argument. Both classes have a area function which can print the area of the shape where Shape's area is 0 by default.\n"
   ]
  },
  {
   "cell_type": "code",
   "execution_count": 5,
   "id": "3afdfb64-404f-485c-83ca-89f8e1782a53",
   "metadata": {},
   "outputs": [
    {
     "name": "stdout",
     "output_type": "stream",
     "text": [
      "16\n"
     ]
    }
   ],
   "source": [
    "class Shape():\n",
    "    def __init__(self):\n",
    "        pass\n",
    "\n",
    "    def area(self):\n",
    "        return 0\n",
    "\n",
    "class Square(Shape):\n",
    "    def __init__(self,l):\n",
    "        Shape.__init__(self)\n",
    "        self.length=l\n",
    "\n",
    "    def area(self):\n",
    "        return self.length**2\n",
    "\n",
    "sqr=Square(4)\n",
    "print(sqr.area())"
   ]
  },
  {
   "cell_type": "markdown",
   "id": "668c26da-c162-445b-91f2-20bf925c0f4b",
   "metadata": {},
   "source": [
    "# Question 50\n",
    "---\n",
    "> Please raise a RuntimeError exception."
   ]
  },
  {
   "cell_type": "code",
   "execution_count": 6,
   "id": "a69bbfc3-216d-4629-b45f-3b4284f085bc",
   "metadata": {},
   "outputs": [
    {
     "ename": "RuntimeError",
     "evalue": "smthng error",
     "output_type": "error",
     "traceback": [
      "\u001b[1;31m---------------------------------------------------------------------------\u001b[0m",
      "\u001b[1;31mRuntimeError\u001b[0m                              Traceback (most recent call last)",
      "Cell \u001b[1;32mIn[6], line 1\u001b[0m\n\u001b[1;32m----> 1\u001b[0m \u001b[38;5;28;01mraise\u001b[39;00m \u001b[38;5;167;01mRuntimeError\u001b[39;00m(\u001b[38;5;124m\"\u001b[39m\u001b[38;5;124msmthng error\u001b[39m\u001b[38;5;124m\"\u001b[39m)\n",
      "\u001b[1;31mRuntimeError\u001b[0m: smthng error"
     ]
    }
   ],
   "source": [
    "raise RuntimeError(\"smthng error\")"
   ]
  },
  {
   "cell_type": "code",
   "execution_count": null,
   "id": "b4c05370-fbf8-4e47-b1c9-1ac6d9756f58",
   "metadata": {},
   "outputs": [],
   "source": []
  }
 ],
 "metadata": {
  "kernelspec": {
   "display_name": "Python 3 (ipykernel)",
   "language": "python",
   "name": "python3"
  },
  "language_info": {
   "codemirror_mode": {
    "name": "ipython",
    "version": 3
   },
   "file_extension": ".py",
   "mimetype": "text/x-python",
   "name": "python",
   "nbconvert_exporter": "python",
   "pygments_lexer": "ipython3",
   "version": "3.12.4"
  }
 },
 "nbformat": 4,
 "nbformat_minor": 5
}
