{
 "cells": [
  {
   "cell_type": "markdown",
   "id": "1cec401f-478e-4336-865d-36b797eee613",
   "metadata": {},
   "source": [
    "# Question 51\n",
    "---\n",
    "> Write a function to compute 5/0 and use try/except to catch the exceptions."
   ]
  },
  {
   "cell_type": "code",
   "execution_count": 1,
   "id": "79a27082-579c-4b30-aede-506a8a015f48",
   "metadata": {},
   "outputs": [
    {
     "name": "stdout",
     "output_type": "stream",
     "text": [
      "Catching error\n"
     ]
    }
   ],
   "source": [
    "def func():\n",
    "    return 5/0\n",
    "\n",
    "try:\n",
    "    func()\n",
    "except ZeroDivisionError:\n",
    "    print(\"Catching error\")"
   ]
  },
  {
   "cell_type": "markdown",
   "id": "a0038180-188a-4772-a840-2d6e13b71ba6",
   "metadata": {},
   "source": [
    "# Question 52\n",
    "---\n",
    "> Define a custom exception class which takes a string message as attribute."
   ]
  },
  {
   "cell_type": "code",
   "execution_count": 2,
   "id": "be5ac430-ffd9-4ed7-8c8d-3a23f3fe378c",
   "metadata": {},
   "outputs": [
    {
     "name": "stdin",
     "output_type": "stream",
     "text": [
      " 12\n"
     ]
    },
    {
     "name": "stdout",
     "output_type": "stream",
     "text": [
      "The error raised: Input is grater than 10\n"
     ]
    }
   ],
   "source": [
    "class MyError(Exception):\n",
    "    \"\"\"\n",
    "    Custom error\n",
    "    Attributes:\n",
    "    msg -- explanation for error \n",
    "    \"\"\"\n",
    "    def __init__(self, message):\n",
    "        self.message=message\n",
    "\n",
    "num=int(input())\n",
    "try:\n",
    "    if num < 10:\n",
    "        raise MyError(\"Input is less than 10\")\n",
    "    elif num > 10:\n",
    "        raise MyError(\"Input is grater than 10\")\n",
    "except MyError as me:\n",
    "    print(\"The error raised: \" + me.message)"
   ]
  },
  {
   "cell_type": "markdown",
   "id": "7229ffc8-87e8-4d78-9d29-019f4034c771",
   "metadata": {},
   "source": [
    "# Question 53\n",
    "---\n",
    ">Assuming that we have some email addresses in the \"username@companyname.com\" format, please write program to print the user name of a given email address. Both user names and company names are composed of letters only.\n",
    "\n",
    ">Example: If the following email address is given as input to the program:\n",
    "\n",
    "```john@google.com```\n",
    "\n",
    ">Then, the output of the program should be:\n",
    "\n",
    "```john```\n",
    "\n",
    ">In case of input data being supplied to the question, it should be assumed to be a console input."
   ]
  },
  {
   "cell_type": "code",
   "execution_count": 3,
   "id": "32fe7c39-34ff-41d8-986c-49479a277b75",
   "metadata": {},
   "outputs": [
    {
     "name": "stdin",
     "output_type": "stream",
     "text": [
      " username@company.com\n"
     ]
    },
    {
     "name": "stdout",
     "output_type": "stream",
     "text": [
      "username\n"
     ]
    }
   ],
   "source": [
    "data=input().split(\"@\")\n",
    "print(data[0])"
   ]
  },
  {
   "cell_type": "code",
   "execution_count": null,
   "id": "b958deae-8e48-4cda-bf89-e14b0ed8fd9a",
   "metadata": {},
   "outputs": [],
   "source": []
  }
 ],
 "metadata": {
  "kernelspec": {
   "display_name": "Python 3 (ipykernel)",
   "language": "python",
   "name": "python3"
  },
  "language_info": {
   "codemirror_mode": {
    "name": "ipython",
    "version": 3
   },
   "file_extension": ".py",
   "mimetype": "text/x-python",
   "name": "python",
   "nbconvert_exporter": "python",
   "pygments_lexer": "ipython3",
   "version": "3.12.4"
  }
 },
 "nbformat": 4,
 "nbformat_minor": 5
}
