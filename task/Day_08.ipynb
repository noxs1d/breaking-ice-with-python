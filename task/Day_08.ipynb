{
 "cells": [
  {
   "cell_type": "markdown",
   "id": "24960e1b-7ce1-4fd6-8365-2155d9a024f2",
   "metadata": {},
   "source": [
    "# Question 22\n",
    "---\n",
    ">Write a program to compute the frequency of the words from the input. The output should output after sorting the key alphanumerically.\n",
    ">Suppose the following input is supplied to the program:\n",
    "\n",
    "```New to Python or choosing between Python 2 and Python 3? Read Python 2 or Python 3.```\n",
    "\n",
    ">Then, the output should be:\n",
    "\n",
    "```2:2```\\\n",
    "```3.:1```\\\n",
    "```3?:1```\\\n",
    "```New:1```\\\n",
    "```Python:5```\\\n",
    "```Read:1```\\\n",
    "```and:1```\\\n",
    "```between:1```\\\n",
    "```choosing:1```\\\n",
    "```or:2```\\\n",
    "```to:1```"
   ]
  },
  {
   "cell_type": "code",
   "execution_count": 2,
   "id": "7995d5e9-28d2-4600-81b9-01f939d6570d",
   "metadata": {},
   "outputs": [
    {
     "name": "stdin",
     "output_type": "stream",
     "text": [
      " New to Python or choosing between Python 2 and Python 3? Read Python 2 or Python 3.\n"
     ]
    },
    {
     "name": "stdout",
     "output_type": "stream",
     "text": [
      "2:2\n",
      "3.:1\n",
      "3?:1\n",
      "New:1\n",
      "Python:5\n",
      "Read:1\n",
      "and:1\n",
      "between:1\n",
      "choosing:1\n",
      "or:2\n",
      "to:1\n"
     ]
    }
   ],
   "source": [
    "data=input().split()\n",
    "dct=dict()\n",
    "for word in data:\n",
    "    if word in dct:\n",
    "        dct[word]+=1\n",
    "\n",
    "dct=sorted(dct.items())\n",
    "for i in dct:\n",
    "    print(f\"{i[0]}:{i[1]}\")"
   ]
  },
  {
   "cell_type": "markdown",
   "id": "c9bb1bff-1d18-4e3d-9b55-1a6df4a45b45",
   "metadata": {},
   "source": [
    "# Question 23\n",
    "---\n",
    ">Write a method which can calculate square value of number\n",
    "\n",
    ">Hints:\n",
    "\n",
    "```Using the ** operator which can be written as n**p where means n^p```"
   ]
  },
  {
   "cell_type": "code",
   "execution_count": 3,
   "id": "da021890-65fb-47f4-879b-375d04dd74eb",
   "metadata": {},
   "outputs": [
    {
     "name": "stdin",
     "output_type": "stream",
     "text": [
      " 3\n"
     ]
    },
    {
     "name": "stdout",
     "output_type": "stream",
     "text": [
      "9\n"
     ]
    }
   ],
   "source": [
    "def square(n):\n",
    "    return n**2\n",
    "\n",
    "print(square(int(input())))"
   ]
  },
  {
   "cell_type": "markdown",
   "id": "2d8fd35f-2b7d-49f5-81f9-8bccf3da3f9d",
   "metadata": {},
   "source": [
    "# Question 24\n",
    "---\n",
    ">Python has many built-in functions, and if you do not know how to use it, you can read document online or find some books. But Python has a built-in document function for every built-in functions.\n",
    "\n",
    ">Please write a program to print some Python built-in functions documents, such as abs(), int(), raw_input()\n",
    "\n",
    ">And add document for your own function"
   ]
  },
  {
   "cell_type": "code",
   "execution_count": 4,
   "id": "6e394dea-fa77-4e1d-9e81-2c0f888c4789",
   "metadata": {},
   "outputs": [
    {
     "name": "stdout",
     "output_type": "stream",
     "text": [
      "str(object='') -> str\n",
      "str(bytes_or_buffer[, encoding[, errors]]) -> str\n",
      "\n",
      "Create a new string object from the given object. If encoding or\n",
      "errors is specified, then the object must expose a data buffer\n",
      "that will be decoded using the given encoding and error handler.\n",
      "Otherwise, returns the result of object.__str__() (if defined)\n",
      "or repr(object).\n",
      "encoding defaults to sys.getdefaultencoding().\n",
      "errors defaults to 'strict'.\n",
      "Return a new list containing all items from the iterable in ascending order.\n",
      "\n",
      "A custom key function can be supplied to customize the sort order, and the\n",
      "reverse flag can be set to request the result in descending order.\n",
      "81\n",
      "\n",
      "    param n: This is any integer number\n",
      "    param p: This is power over n\n",
      "    return:  n to the power p = n^p\n",
      "    \n"
     ]
    }
   ],
   "source": [
    "print(str.__doc__)\n",
    "print(sorted.__doc__)\n",
    "\n",
    "def pow(n,p):\n",
    "    '''\n",
    "    param n: This is any integer number\n",
    "    param p: This is power over n\n",
    "    return:  n to the power p = n^p\n",
    "    '''\n",
    "\n",
    "    return n**p\n",
    "\n",
    "print(pow(3,4))\n",
    "print(pow.__doc__)"
   ]
  },
  {
   "cell_type": "markdown",
   "id": "a1dfdf66-8b85-4313-8c46-b238345172c4",
   "metadata": {},
   "source": [
    "# Question 25\n",
    "---\n",
    ">Define a class, which have a class parameter and have a same instance parameter."
   ]
  },
  {
   "cell_type": "code",
   "execution_count": 5,
   "id": "b95a7ae0-4a8a-4be4-80e6-3c8949badaec",
   "metadata": {},
   "outputs": [
    {
     "name": "stdout",
     "output_type": "stream",
     "text": [
      "Car name is Honda\n",
      "Car name is Toyota\n"
     ]
    }
   ],
   "source": [
    "class Car:\n",
    "    name = \"Car\"\n",
    "\n",
    "    def __init__(self,name = None):\n",
    "        self.name = name\n",
    "\n",
    "honda=Car(\"Honda\")\n",
    "print(\"%s name is %s\"%(Car.name,honda.name))\n",
    "\n",
    "toyota=Car()\n",
    "toyota.name=\"Toyota\"\n",
    "print(\"%s name is %s\"%(Car.name,toyota.name))"
   ]
  },
  {
   "cell_type": "code",
   "execution_count": null,
   "id": "d3799c6f-f486-4d9c-af3a-b8120d50033e",
   "metadata": {},
   "outputs": [],
   "source": []
  }
 ],
 "metadata": {
  "kernelspec": {
   "display_name": "Python 3 (ipykernel)",
   "language": "python",
   "name": "python3"
  },
  "language_info": {
   "codemirror_mode": {
    "name": "ipython",
    "version": 3
   },
   "file_extension": ".py",
   "mimetype": "text/x-python",
   "name": "python",
   "nbconvert_exporter": "python",
   "pygments_lexer": "ipython3",
   "version": "3.12.4"
  }
 },
 "nbformat": 4,
 "nbformat_minor": 5
}
