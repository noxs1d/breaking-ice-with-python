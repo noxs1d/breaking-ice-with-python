{
 "cells": [
  {
   "cell_type": "markdown",
   "id": "94f99305-d412-46ab-b84d-0413a92a4469",
   "metadata": {},
   "source": [
    "# Question 75\n",
    "---\n",
    ">Please write a program to randomly print a integer number between 7 and 15 inclusive.\n",
    "\n",
    "### Hints\n",
    ">Use random.randrange() to a random integer in a given range."
   ]
  },
  {
   "cell_type": "code",
   "execution_count": 1,
   "id": "4d20f011-3a04-4da6-9b68-0867d57a694b",
   "metadata": {},
   "outputs": [
    {
     "name": "stdout",
     "output_type": "stream",
     "text": [
      "10\n"
     ]
    }
   ],
   "source": [
    "import random \n",
    "print(random.randrange(7,16))"
   ]
  },
  {
   "cell_type": "markdown",
   "id": "f80715fc-a193-4eb5-92eb-6b3f5c2d108e",
   "metadata": {},
   "source": [
    "# Question 76\n",
    "---\n",
    ">Please write a program to compress and decompress the string \"hello world!hello world!hello world!hello world!\".\n",
    "\n",
    "### Hints\n",
    ">Use zlib.compress() and zlib.decompress() to compress and decompress a string."
   ]
  },
  {
   "cell_type": "code",
   "execution_count": 3,
   "id": "0a1e83d9-96c2-49d8-aefd-2443c89d82ef",
   "metadata": {},
   "outputs": [
    {
     "name": "stdout",
     "output_type": "stream",
     "text": [
      "b'x\\x9c\\xcbH\\xcd\\xc9\\xc9W(\\xcf/\\xcaIQ\\xcc \\x82\\r\\x00\\xbd[\\x11\\xf5'\n",
      "b'hello world!hello world!hello world!hello world!'\n"
     ]
    }
   ],
   "source": [
    "import zlib\n",
    "text=\"hello world!hello world!hello world!hello world!\"\n",
    "bt=bytes(text, 'utf-8')\n",
    "x=zlib.compress(bt)\n",
    "print(x)\n",
    "print(zlib.decompress(x))"
   ]
  },
  {
   "cell_type": "markdown",
   "id": "3aa9c999-7c32-4755-acd4-1c5f63cc0119",
   "metadata": {},
   "source": [
    "# Question 77\n",
    "___\n",
    ">Please write a program to print the running time of execution of \"1+1\" for 100 times.\n",
    "\n",
    "### Hints\n",
    ">Use timeit() function to measure the running time."
   ]
  },
  {
   "cell_type": "code",
   "execution_count": 7,
   "id": "9e44930a-7ef8-426b-b6b1-ff262a83fad2",
   "metadata": {},
   "outputs": [
    {
     "name": "stdout",
     "output_type": "stream",
     "text": [
      "9.499999578110874e-06\n"
     ]
    }
   ],
   "source": [
    "import timeit\n",
    "print(timeit.timeit(lambda: 1+1,number=100))"
   ]
  },
  {
   "cell_type": "markdown",
   "id": "dda00398-7c7d-4cf4-afd6-6814e8b556f7",
   "metadata": {},
   "source": [
    "# Question 78\n",
    "---\n",
    ">Please write a program to shuffle and print the list [3,6,7,8].\n",
    "\n",
    "### Hints\n",
    ">Use shuffle() function to shuffle a list."
   ]
  },
  {
   "cell_type": "code",
   "execution_count": 11,
   "id": "9cf1f3c7-9622-4b2e-b743-4b86c4f5f535",
   "metadata": {},
   "outputs": [
    {
     "name": "stdout",
     "output_type": "stream",
     "text": [
      "[6, 3, 7, 8]\n"
     ]
    }
   ],
   "source": [
    "lst=[3,6,7,8]\n",
    "random.shuffle(lst)\n",
    "print(lst)"
   ]
  },
  {
   "cell_type": "markdown",
   "id": "7ca6fc3d-aa9d-4563-b9b7-dc74339f62c4",
   "metadata": {},
   "source": [
    "# Question 79\n",
    "---\n",
    ">Please write a program to generate all sentences where subject is in [\"I\", \"You\"] and verb is in [\"Play\", \"Love\"] and the object is in [\"Hockey\",\"Football\"].\n",
    "\n",
    "### Hints\n",
    ">Use list[index] notation to get a element from a list.\n",
    "\n"
   ]
  },
  {
   "cell_type": "code",
   "execution_count": 13,
   "id": "783fa7d9-c98f-4fa4-baa9-a0b83054dcaa",
   "metadata": {},
   "outputs": [
    {
     "name": "stdout",
     "output_type": "stream",
     "text": [
      "I Play Hockey\n",
      "I Play Football\n",
      "I Love Hockey\n",
      "I Love Football\n",
      "You Play Hockey\n",
      "You Play Football\n",
      "You Love Hockey\n",
      "You Love Football\n"
     ]
    }
   ],
   "source": [
    "sub=[\"I\",\"You\"]\n",
    "verb=[\"Play\", \"Love\"]\n",
    "obj=[\"Hockey\", \"Football\"]\n",
    "for i in sub:\n",
    "    for j in verb:\n",
    "        for n in obj:\n",
    "            print(f\"{i} {j} {n}\")"
   ]
  },
  {
   "cell_type": "code",
   "execution_count": null,
   "id": "93df81a3-6505-42d8-a0a1-41c9f45bf7d4",
   "metadata": {},
   "outputs": [],
   "source": []
  }
 ],
 "metadata": {
  "kernelspec": {
   "display_name": "Python 3 (ipykernel)",
   "language": "python",
   "name": "python3"
  },
  "language_info": {
   "codemirror_mode": {
    "name": "ipython",
    "version": 3
   },
   "file_extension": ".py",
   "mimetype": "text/x-python",
   "name": "python",
   "nbconvert_exporter": "python",
   "pygments_lexer": "ipython3",
   "version": "3.12.4"
  }
 },
 "nbformat": 4,
 "nbformat_minor": 5
}
