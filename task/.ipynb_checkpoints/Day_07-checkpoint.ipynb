{
 "cells": [
  {
   "cell_type": "markdown",
   "id": "0c11f0ca-d36f-404d-85da-40d0f32a64f0",
   "metadata": {},
   "source": [
    "# Question 20\n",
    "---\n",
    "> Define a class with a generator which can iterate the numbers, which are divisible by 7, between a given range 0 and n.\n",
    "\n",
    ">Suppose the following input is supplied to the program:\n",
    "\n",
    "```7```\n",
    "\n",
    ">Then, the output should be:\n",
    "\n",
    "```0```\n",
    "```7```"
   ]
  },
  {
   "cell_type": "code",
   "execution_count": 3,
   "id": "50f54700-f5a9-402c-8c56-366ed810bb43",
   "metadata": {},
   "outputs": [
    {
     "name": "stdin",
     "output_type": "stream",
     "text": [
      " 7\n"
     ]
    },
    {
     "name": "stdout",
     "output_type": "stream",
     "text": [
      "0\n",
      "7\n"
     ]
    }
   ],
   "source": [
    "class Seven:\n",
    "    def by_seven(self, n):\n",
    "        for num in range(0,n+1):\n",
    "            if num%7 == 0:\n",
    "                yield num\n",
    "\n",
    "seven=Seven()\n",
    "nums=seven.by_seven(int(input()))\n",
    "for num in nums:\n",
    "    print(num)"
   ]
  },
  {
   "cell_type": "markdown",
   "id": "e9e92b9f-0bfc-4b56-98da-eec946847ea5",
   "metadata": {},
   "source": [
    "# Question 21\n",
    "---\n",
    ">A robot moves in a plane starting from the original point (0,0). The robot can move toward UP, DOWN, LEFT and RIGHT with a given steps. The trace of robot movement is shown as the following:\n",
    "\n",
    "```UP 5```\n",
    "\n",
    "```DOWN 3```\n",
    "\n",
    "```LEFT 3```\n",
    "\n",
    "```RIGHT 2```\n",
    "\n",
    ">The numbers after the direction are steps. Please write a program to compute the distance from current position after a sequence of movement and original point. If the distance is a float, then just print the nearest integer. Example: If the following tuples are given as input to the program:\n",
    "\n",
    "```UP 5```\n",
    "\n",
    "```DOWN 3```\n",
    "\n",
    "```LEFT 3```\n",
    "\n",
    "```RIGHT 2```\n",
    "\n",
    ">Then, the output of the program should be:\n",
    "\n",
    "```2```"
   ]
  },
  {
   "cell_type": "code",
   "execution_count": 9,
   "id": "3a7adb3d-127c-4d1b-adb0-7a735e34fd09",
   "metadata": {},
   "outputs": [
    {
     "name": "stdin",
     "output_type": "stream",
     "text": [
      " UP 5\n",
      " DOWN 3\n",
      " LEFT 3\n",
      " RIGHT 2\n",
      " \n"
     ]
    },
    {
     "name": "stdout",
     "output_type": "stream",
     "text": [
      "2\n"
     ]
    }
   ],
   "source": [
    "import math\n",
    "x,y=0,0\n",
    "while True:\n",
    "    s= input().split()\n",
    "    if not s:\n",
    "        break\n",
    "    if s[0]==\"UP\":\n",
    "        y+=int(s[1])\n",
    "    if s[0]==\"DOWN\":\n",
    "        y-=int(s[1])\n",
    "    if s[0]==\"LEFT\":\n",
    "        x-=int(s[1])\n",
    "    if s[0]==\"RIGHT\":\n",
    "        x+=int(s[1])\n",
    "\n",
    "print(round(math.sqrt(x**2+y**2)))"
   ]
  },
  {
   "cell_type": "code",
   "execution_count": null,
   "id": "5bc5ee62-9f8c-4f3e-be0f-86481088c119",
   "metadata": {},
   "outputs": [],
   "source": []
  }
 ],
 "metadata": {
  "kernelspec": {
   "display_name": "Python 3 (ipykernel)",
   "language": "python",
   "name": "python3"
  },
  "language_info": {
   "codemirror_mode": {
    "name": "ipython",
    "version": 3
   },
   "file_extension": ".py",
   "mimetype": "text/x-python",
   "name": "python",
   "nbconvert_exporter": "python",
   "pygments_lexer": "ipython3",
   "version": "3.12.4"
  }
 },
 "nbformat": 4,
 "nbformat_minor": 5
}
