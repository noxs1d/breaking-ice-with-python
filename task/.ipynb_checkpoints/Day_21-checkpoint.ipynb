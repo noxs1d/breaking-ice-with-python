{
 "cells": [
  {
   "cell_type": "markdown",
   "id": "0d88a638-b109-4304-ba7b-f38fec418b60",
   "metadata": {},
   "source": [
    "# Question 85\n",
    "---\n",
    ">By using list comprehension, please write a program to print the list after removing the 0th,4th,5th numbers in [12,24,35,70,88,120,155].\n",
    "\n",
    "### Hints\n",
    ">Use list comprehension to delete a bunch of element from a list.Use enumerate() to get (index, value) tuple.\n"
   ]
  },
  {
   "cell_type": "code",
   "execution_count": 4,
   "id": "878edb1e-8145-4f58-a817-9d7eedea9501",
   "metadata": {},
   "outputs": [
    {
     "name": "stdout",
     "output_type": "stream",
     "text": [
      "[24, 35, 70, 155]\n"
     ]
    }
   ],
   "source": [
    "lst=[12,24,35,70,88,120,155]\n",
    "lst=[j for (i,j) in enumerate(lst) if i not in (0,4,5)]\n",
    "print(lst)"
   ]
  },
  {
   "cell_type": "markdown",
   "id": "26eea96a-9c80-447b-aa34-c99dcf554913",
   "metadata": {},
   "source": [
    "# Question 86\n",
    "---\n",
    ">By using list comprehension, please write a program to print the list after removing the value 24 in [12,24,35,24,88,120,155].\n",
    "\n",
    "### Hints\n",
    ">Use list's remove method to delete a value."
   ]
  },
  {
   "cell_type": "code",
   "execution_count": 5,
   "id": "7fd0fb05-cd98-488f-b38b-057cc5d5258a",
   "metadata": {},
   "outputs": [
    {
     "name": "stdout",
     "output_type": "stream",
     "text": [
      "[12, 35, 70, 88, 120, 155]\n"
     ]
    }
   ],
   "source": [
    "lst=lst=[12,24,35,70,88,120,155]\n",
    "lst.remove(24)\n",
    "print(lst)"
   ]
  },
  {
   "cell_type": "markdown",
   "id": "6696840c-6c74-4f49-8493-e566cb482d36",
   "metadata": {},
   "source": [
    "# Question 87\n",
    "---\n",
    ">With two given lists [1,3,6,78,35,55] and [12,24,35,24,88,120,155], write a program to make a list whose elements are intersection of the above given lists.\n",
    "\n",
    "### Hints\n",
    ">Use set() and \"&=\" to do set intersection operation"
   ]
  },
  {
   "cell_type": "code",
   "execution_count": 6,
   "id": "02b1dbf0-faa1-4c69-a457-3ac16001f509",
   "metadata": {},
   "outputs": [
    {
     "name": "stdout",
     "output_type": "stream",
     "text": [
      "{35}\n"
     ]
    }
   ],
   "source": [
    "lst1=[1,3,6,78,35,55]\n",
    "lst2=[12,24,35,24,88,120,155]\n",
    "set1=set(lst1)\n",
    "set2=set(lst2)\n",
    "inter=set1 & set2\n",
    "print(inter)"
   ]
  },
  {
   "cell_type": "markdown",
   "id": "aa9eb6de-95a7-4cc1-93cf-5993fee1d2e9",
   "metadata": {},
   "source": [
    "# Question 88\n",
    "---\n",
    "> With a given list [12,24,35,24,88,120,155,88,120,155], write a program to print this list after removing all duplicate values with original order reserved.\n",
    "\n",
    "### Hints\n",
    "> Use set() to store a number of values without duplicate."
   ]
  },
  {
   "cell_type": "code",
   "execution_count": 3,
   "id": "8a05ac07-08ca-4361-96f7-a444cb8c851d",
   "metadata": {},
   "outputs": [
    {
     "name": "stdout",
     "output_type": "stream",
     "text": [
      "[12, 24, 35, 88, 120, 155]\n"
     ]
    }
   ],
   "source": [
    "lst= [12,24,35,24,88,120,155,88,120,155]\n",
    "lst2=list()\n",
    "for i in lst:\n",
    "    if i not in lst2:\n",
    "        lst2.append(i)\n",
    "        \n",
    "print(lst2)"
   ]
  },
  {
   "cell_type": "markdown",
   "id": "4b6d5656-7ebe-45a3-9dea-f6427044d739",
   "metadata": {},
   "source": [
    "# Question 89\n",
    "---\n",
    ">Define a class Person and its two child classes: Male and Female. All classes have a method \"getGender\" which can print \"Male\" for Male class and \"Female\" for Female class.\n",
    "\n",
    "### Hints\n",
    "> Use Subclass(Parentclass) to define a child class."
   ]
  },
  {
   "cell_type": "code",
   "execution_count": 5,
   "id": "0d084f16-7e8f-4239-b729-5a4c31b19374",
   "metadata": {},
   "outputs": [
    {
     "name": "stdout",
     "output_type": "stream",
     "text": [
      "Male\n",
      "Female\n",
      " \n"
     ]
    }
   ],
   "source": [
    "class Person():\n",
    "    def __init__(self):\n",
    "        pass\n",
    "\n",
    "    def getGender(self):\n",
    "        print(\" \")\n",
    "\n",
    "class Male(Person):\n",
    "    def __init__(self):\n",
    "        pass\n",
    "\n",
    "    def getGender(self):\n",
    "        print(\"Male\")\n",
    "\n",
    "class Female(Person):\n",
    "\n",
    "    def __init__(self):\n",
    "        pass\n",
    "\n",
    "    def getGender(self):\n",
    "        print(\"Female\")\n",
    "\n",
    "male=Male()\n",
    "male.getGender()\n",
    "female=Female()\n",
    "female.getGender()\n",
    "person=Person()\n",
    "person.getGender()"
   ]
  },
  {
   "cell_type": "code",
   "execution_count": null,
   "id": "417e747b-2196-425e-bb43-d8bb7ede6210",
   "metadata": {},
   "outputs": [],
   "source": []
  }
 ],
 "metadata": {
  "kernelspec": {
   "display_name": "Python 3 (ipykernel)",
   "language": "python",
   "name": "python3"
  },
  "language_info": {
   "codemirror_mode": {
    "name": "ipython",
    "version": 3
   },
   "file_extension": ".py",
   "mimetype": "text/x-python",
   "name": "python",
   "nbconvert_exporter": "python",
   "pygments_lexer": "ipython3",
   "version": "3.12.4"
  }
 },
 "nbformat": 4,
 "nbformat_minor": 5
}
