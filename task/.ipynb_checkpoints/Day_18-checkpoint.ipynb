{
 "cells": [
  {
   "cell_type": "markdown",
   "id": "cd172b8e-be4d-4a6c-ba13-87f739a70045",
   "metadata": {},
   "source": [
    "# Question 70\n",
    "---\n",
    ">Please write a program to output a random even number between 0 and 10 inclusive using random module and list comprehension.\n",
    "\n",
    "### Hints\n",
    ">Use random.choice() to a random element from a list."
   ]
  },
  {
   "cell_type": "code",
   "execution_count": 1,
   "id": "3eb9dfca-bd8b-4e23-af36-e6596a966c40",
   "metadata": {},
   "outputs": [
    {
     "name": "stdout",
     "output_type": "stream",
     "text": [
      "4\n"
     ]
    }
   ],
   "source": [
    "import random \n",
    "print(random.choice([i for i in range(1,11) if i%2==0]))"
   ]
  },
  {
   "cell_type": "markdown",
   "id": "80fe2ec7-9867-42fc-958d-c56fc75c40a9",
   "metadata": {},
   "source": [
    "# Question 71\n",
    "---\n",
    ">Please write a program to output a random number, which is divisible by 5 and 7, between 10 and 150 inclusive using random module and list comprehension.\n",
    "\n",
    "### Hints\n",
    ">Use random.choice() to a random element from a list."
   ]
  },
  {
   "cell_type": "code",
   "execution_count": 2,
   "id": "83a76ee6-6154-4ded-b0af-117a8ae2d6e2",
   "metadata": {},
   "outputs": [
    {
     "name": "stdout",
     "output_type": "stream",
     "text": [
      "35\n"
     ]
    }
   ],
   "source": [
    "print(random.choice([i for i in range(10,151) if i%5==0 and i%7==0]))"
   ]
  },
  {
   "cell_type": "markdown",
   "id": "29a4a93c-73c4-40d7-aafe-2ebdc72618e9",
   "metadata": {},
   "source": [
    "# Question 72\n",
    "---\n",
    ">Please write a program to generate a list with 5 random numbers between 100 and 200 inclusive.\n",
    "\n",
    "### Hints\n",
    ">Use random.sample() to generate a list of random values."
   ]
  },
  {
   "cell_type": "code",
   "execution_count": 5,
   "id": "3e92bcd6-61da-4715-876e-d9fb381c3b71",
   "metadata": {},
   "outputs": [
    {
     "name": "stdout",
     "output_type": "stream",
     "text": [
      "[168, 174, 103, 123, 120]\n"
     ]
    }
   ],
   "source": [
    "print(random.sample([i for i in range(100,201)],5))"
   ]
  },
  {
   "cell_type": "markdown",
   "id": "27b6f81a-8f61-48d3-960f-020bb8487b66",
   "metadata": {},
   "source": [
    "# Question 73\n",
    "---\n",
    ">Please write a program to randomly generate a list with 5 even numbers between 100 and 200 inclusive.\n",
    "\n",
    "### Hints\n",
    ">Use random.sample() to generate a list of random values."
   ]
  },
  {
   "cell_type": "code",
   "execution_count": 6,
   "id": "8360402a-a3cc-4dda-95fc-d30d9185a73b",
   "metadata": {},
   "outputs": [
    {
     "name": "stdout",
     "output_type": "stream",
     "text": [
      "[122, 150, 142, 160, 174]\n"
     ]
    }
   ],
   "source": [
    "print(random.sample([i for i in range(100,201) if i%2==0],5))"
   ]
  },
  {
   "cell_type": "markdown",
   "id": "aabf4447-dbcf-4d56-8523-94c8e1857280",
   "metadata": {},
   "source": [
    "# Question 74\n",
    "---\n",
    ">Please write a program to randomly generate a list with 5 numbers, which are divisible by 5 and 7 , between 1 and 1000 inclusive.\n",
    "\n",
    "### Hints\n",
    ">Use random.sample() to generate a list of random values."
   ]
  },
  {
   "cell_type": "code",
   "execution_count": 7,
   "id": "7e05f151-6bb3-4c1b-b100-8f74067f9324",
   "metadata": {},
   "outputs": [
    {
     "name": "stdout",
     "output_type": "stream",
     "text": [
      "[420, 315, 35, 280, 210]\n"
     ]
    }
   ],
   "source": [
    "print(random.sample([i for i in range(1,1001) if i%5==0 and i%7==0],5))"
   ]
  },
  {
   "cell_type": "code",
   "execution_count": null,
   "id": "37449169-619f-4985-a6e5-df6ccc39f2a3",
   "metadata": {},
   "outputs": [],
   "source": []
  }
 ],
 "metadata": {
  "kernelspec": {
   "display_name": "Python 3 (ipykernel)",
   "language": "python",
   "name": "python3"
  },
  "language_info": {
   "codemirror_mode": {
    "name": "ipython",
    "version": 3
   },
   "file_extension": ".py",
   "mimetype": "text/x-python",
   "name": "python",
   "nbconvert_exporter": "python",
   "pygments_lexer": "ipython3",
   "version": "3.12.4"
  }
 },
 "nbformat": 4,
 "nbformat_minor": 5
}
