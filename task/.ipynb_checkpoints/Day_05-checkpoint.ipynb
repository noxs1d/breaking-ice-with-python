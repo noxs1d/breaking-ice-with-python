{
 "cells": [
  {
   "cell_type": "markdown",
   "id": "aea14fb4-76ec-4d17-8595-c779bfa0e9fc",
   "metadata": {},
   "source": [
    "# Question 16\n",
    "---\n",
    ">Use a list comprehension to square each odd number in a list. The list is input by a sequence of comma-separated numbers. >Suppose the following input is supplied to the program:\n",
    "\n",
    "```1,2,3,4,5,6,7,8,9```\n",
    "\n",
    ">Output:\n",
    "\n",
    "```1,9,25,49,81```"
   ]
  },
  {
   "cell_type": "code",
   "execution_count": 5,
   "id": "b3c95f96-585e-4627-a0ca-c317c1169bd5",
   "metadata": {},
   "outputs": [
    {
     "name": "stdin",
     "output_type": "stream",
     "text": [
      " 1,2,3,4,5,6,7,8,9\n"
     ]
    },
    {
     "name": "stdout",
     "output_type": "stream",
     "text": [
      "1,9,25,49,81\n"
     ]
    }
   ],
   "source": [
    "data=input().split(\",\")\n",
    "data=[int(i)*int(i) for i in data if int(i)%2!=0]\n",
    "data=[str(i) for i in data]\n",
    "print(\",\".join(data))"
   ]
  },
  {
   "cell_type": "markdown",
   "id": "b54c2dd9-2f77-43f7-99e1-fd4915819cd2",
   "metadata": {},
   "source": [
    "# Question 17\n",
    "---\n",
    ">Write a program that computes the net amount of a bank account based a transaction log from console input. The transaction log format is shown as following:\n",
    "\n",
    "```D 100```\n",
    "```W 200```\n",
    "-\n",
    "\n",
    "- D means deposit while W means withdrawal."
   ]
  },
  {
   "cell_type": "code",
   "execution_count": 6,
   "id": "23897b89-e5ff-4f50-ae53-a526df488cbf",
   "metadata": {},
   "outputs": [
    {
     "name": "stdin",
     "output_type": "stream",
     "text": [
      "D deposit/ W withdrawal and press enter to stop: D 500\n",
      "D deposit/ W withdrawal and press enter to stop: W 200\n",
      "D deposit/ W withdrawal and press enter to stop: D 100\n",
      "D deposit/ W withdrawal and press enter to stop: \n"
     ]
    },
    {
     "name": "stdout",
     "output_type": "stream",
     "text": [
      "400\n"
     ]
    }
   ],
   "source": [
    "res=0\n",
    "while True:\n",
    "    data=input(\"D deposit/ W withdrawal and press enter to stop:\")\n",
    "    if len(data)==0:\n",
    "        break\n",
    "    data=data.split(\" \")\n",
    "    if data[0]==\"D\":\n",
    "        res+=int(data[1])\n",
    "    if data[0]==\"W\" and res==0:\n",
    "        print(\"Bank account is zero\")\n",
    "    if data[0]==\"W\":\n",
    "        res-=int(data[1])\n",
    "\n",
    "print(res)"
   ]
  },
  {
   "cell_type": "code",
   "execution_count": null,
   "id": "7b1c1bcc-ec5c-4dda-baea-cb08f4b3f620",
   "metadata": {},
   "outputs": [],
   "source": []
  }
 ],
 "metadata": {
  "kernelspec": {
   "display_name": "Python 3 (ipykernel)",
   "language": "python",
   "name": "python3"
  },
  "language_info": {
   "codemirror_mode": {
    "name": "ipython",
    "version": 3
   },
   "file_extension": ".py",
   "mimetype": "text/x-python",
   "name": "python",
   "nbconvert_exporter": "python",
   "pygments_lexer": "ipython3",
   "version": "3.12.4"
  }
 },
 "nbformat": 4,
 "nbformat_minor": 5
}
