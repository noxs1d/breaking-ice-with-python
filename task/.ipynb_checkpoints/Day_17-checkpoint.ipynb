{
 "cells": [
  {
   "cell_type": "markdown",
   "id": "218eac45-1075-493c-8b6c-b7280cbda8f1",
   "metadata": {},
   "source": [
    "# Question 65\n",
    "---\n",
    ">Please write assert statements to verify that every number in the list [2,4,6,8] is even.\n",
    "\n",
    "### Hints\n",
    ">Use \"assert expression\" to make assertion."
   ]
  },
  {
   "cell_type": "code",
   "execution_count": 1,
   "id": "1beb9010-5d19-477c-b46a-c7bc0bdb346b",
   "metadata": {},
   "outputs": [
    {
     "ename": "AssertionError",
     "evalue": "5 is not even",
     "output_type": "error",
     "traceback": [
      "\u001b[1;31m---------------------------------------------------------------------------\u001b[0m",
      "\u001b[1;31mAssertionError\u001b[0m                            Traceback (most recent call last)",
      "Cell \u001b[1;32mIn[1], line 3\u001b[0m\n\u001b[0;32m      1\u001b[0m li\u001b[38;5;241m=\u001b[39m[\u001b[38;5;241m2\u001b[39m,\u001b[38;5;241m4\u001b[39m,\u001b[38;5;241m5\u001b[39m,\u001b[38;5;241m8\u001b[39m]\n\u001b[0;32m      2\u001b[0m \u001b[38;5;28;01mfor\u001b[39;00m i \u001b[38;5;129;01min\u001b[39;00m li:\n\u001b[1;32m----> 3\u001b[0m     \u001b[38;5;28;01massert\u001b[39;00m i\u001b[38;5;241m%\u001b[39m\u001b[38;5;241m2\u001b[39m\u001b[38;5;241m==\u001b[39m\u001b[38;5;241m0\u001b[39m, \u001b[38;5;124mf\u001b[39m\u001b[38;5;124m\"\u001b[39m\u001b[38;5;132;01m{\u001b[39;00mi\u001b[38;5;132;01m}\u001b[39;00m\u001b[38;5;124m is not even\u001b[39m\u001b[38;5;124m\"\u001b[39m\n",
      "\u001b[1;31mAssertionError\u001b[0m: 5 is not even"
     ]
    }
   ],
   "source": [
    "li=[2,4,5,8]\n",
    "for i in li:\n",
    "    assert i%2==0, f\"{i} is not even\""
   ]
  },
  {
   "cell_type": "markdown",
   "id": "7c1acacc-f9e8-48c8-a906-579b24c89a31",
   "metadata": {},
   "source": [
    "# Question 66\n",
    "---\n",
    ">Please write a program which accepts basic mathematic expression from console and print the evaluation result.\n",
    "\n",
    ">Example: If the following n is given as input to the program:\n",
    "\n",
    "    35 + 3\n",
    ">Then, the output of the program should be:\n",
    "\n",
    "    38\n",
    "### Hints\n",
    ">Use eval() to evaluate an expression."
   ]
  },
  {
   "cell_type": "code",
   "execution_count": 2,
   "id": "0a057156-e961-48cf-8a22-c475511f3327",
   "metadata": {},
   "outputs": [
    {
     "name": "stdin",
     "output_type": "stream",
     "text": [
      " 35+3\n"
     ]
    },
    {
     "name": "stdout",
     "output_type": "stream",
     "text": [
      "38\n"
     ]
    }
   ],
   "source": [
    "data=input()\n",
    "print(eval(data))"
   ]
  },
  {
   "cell_type": "markdown",
   "id": "6b81a058-6b6f-4f18-a4c0-b16fc413708e",
   "metadata": {},
   "source": [
    "# Question 67\n",
    "---\n",
    ">Please write a binary search function which searches an item in a sorted list. The function should return the index of element to be searched in the list.\n",
    "\n",
    "### Hints\n",
    ">Use if/elif to deal with conditions."
   ]
  },
  {
   "cell_type": "code",
   "execution_count": 5,
   "id": "7f46fcf9-4c93-4474-a3aa-0e3d09af2ea0",
   "metadata": {},
   "outputs": [
    {
     "name": "stdout",
     "output_type": "stream",
     "text": [
      "2\n"
     ]
    }
   ],
   "source": [
    "def binsearch(lst:list, n:int)-> int:\n",
    "    mid=round(len(lst)/2)\n",
    "    if n==lst[mid]:\n",
    "        return mid\n",
    "    elif n>lst[mid]:\n",
    "        return binsearch(list[mid:], n)\n",
    "    else:\n",
    "        return binsearch(list[:mid], n)\n",
    "\n",
    "lst=[2,5,7,9,11]\n",
    "print(binsearch(lst,7))"
   ]
  },
  {
   "cell_type": "markdown",
   "id": "528a6723-c522-4788-a84c-bba7fd12bcc5",
   "metadata": {},
   "source": [
    "# Question 68\n",
    "---\n",
    ">Please generate a random float where the value is between 10 and 100 using Python module.\n",
    "\n",
    "### Hints\n",
    ">Use random.random() to generate a random float in [0,1]."
   ]
  },
  {
   "cell_type": "code",
   "execution_count": 8,
   "id": "5ad8b9a0-9a88-4a00-8eb0-985ca833787b",
   "metadata": {},
   "outputs": [
    {
     "name": "stdout",
     "output_type": "stream",
     "text": [
      "48\n"
     ]
    }
   ],
   "source": [
    "import random\n",
    "print(random.randrange(10,100))"
   ]
  },
  {
   "cell_type": "markdown",
   "id": "fb5933b9-ba2e-439d-8dcd-72feb77a0633",
   "metadata": {},
   "source": [
    "# Question 69\n",
    "---\n",
    ">Please generate a random float where the value is between 5 and 95 using Python module.\n",
    "\n",
    "### Hints\n",
    ">Use random.random() to generate a random float in [0,1].\n",
    "\n"
   ]
  },
  {
   "cell_type": "code",
   "execution_count": 9,
   "id": "80227083-f806-4b23-bd6d-0cf357586c90",
   "metadata": {},
   "outputs": [
    {
     "name": "stdout",
     "output_type": "stream",
     "text": [
      "5.863112141926013\n"
     ]
    }
   ],
   "source": [
    "print(random.uniform(5,95))"
   ]
  },
  {
   "cell_type": "code",
   "execution_count": null,
   "id": "c92c912f-6c07-4027-988f-c82d7ee33439",
   "metadata": {},
   "outputs": [],
   "source": []
  }
 ],
 "metadata": {
  "kernelspec": {
   "display_name": "Python 3 (ipykernel)",
   "language": "python",
   "name": "python3"
  },
  "language_info": {
   "codemirror_mode": {
    "name": "ipython",
    "version": 3
   },
   "file_extension": ".py",
   "mimetype": "text/x-python",
   "name": "python",
   "nbconvert_exporter": "python",
   "pygments_lexer": "ipython3",
   "version": "3.12.4"
  }
 },
 "nbformat": 4,
 "nbformat_minor": 5
}
