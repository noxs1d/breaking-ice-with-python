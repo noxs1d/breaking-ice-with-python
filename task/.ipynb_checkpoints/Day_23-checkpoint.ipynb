{
 "cells": [
  {
   "cell_type": "markdown",
   "id": "feda1fe2-3f15-4928-8e52-2b7fb72e1bed",
   "metadata": {},
   "source": [
    "# Question 95\n",
    "---\n",
    ">Given the participants' score sheet for your University Sports Day, you are required to find the runner-up score. You are given scores. Store them in a list and find the score of the runner-up.\n",
    "\n",
    ">If the following string is given as input to the program:\n",
    "\n",
    "    5\n",
    "```2 3 6 6 5```\n",
    ">Then, the output of the program should be:\n",
    "\n",
    "    5\n",
    "### Hints\n",
    ">Make the scores unique and then find 2nd best number"
   ]
  },
  {
   "cell_type": "code",
   "execution_count": 9,
   "id": "bdcf6a07-66fd-4fb0-a75a-1e8c58c10264",
   "metadata": {},
   "outputs": [
    {
     "name": "stdin",
     "output_type": "stream",
     "text": [
      " 5\n",
      " 2\n",
      " 3\n",
      " 6\n",
      " 6\n",
      " 5\n"
     ]
    },
    {
     "name": "stdout",
     "output_type": "stream",
     "text": [
      "5\n"
     ]
    }
   ],
   "source": [
    "data=int(input())\n",
    "lst=list()\n",
    "for i in range(data):\n",
    "    lst.append(int(input()))\n",
    "\n",
    "lst=list(set(lst))\n",
    "lst.sort()\n",
    "print(lst[-2])"
   ]
  },
  {
   "cell_type": "markdown",
   "id": "a6e0d1d3-413e-49bc-926c-6c8099f1bfcd",
   "metadata": {},
   "source": [
    "# Question 96\n",
    "---\n",
    ">You are given a string S and width W. Your task is to wrap the string into a paragraph of width.\n",
    "\n",
    ">If the following string is given as input to the program:\n",
    "\n",
    "```ABCDEFGHIJKLIMNOQRSTUVWXYZ```\n",
    "    4\n",
    ">Then, the output of the program should be:\n",
    "\n",
    "    ABCD\n",
    "    EFGH\n",
    "    IJKL\n",
    "    IMNO\n",
    "    QRST\n",
    "    UVWX\n",
    "    YZ\n",
    "### Hints\n",
    ">Use wrap function of textwrap module\n",
    "\n"
   ]
  },
  {
   "cell_type": "code",
   "execution_count": 1,
   "id": "dc69dff1-9458-4ab7-8595-513dbb533db0",
   "metadata": {},
   "outputs": [
    {
     "name": "stdin",
     "output_type": "stream",
     "text": [
      " ABCDEFGHIJKLIMNOQRSTUVWXYZ\n",
      " 4\n"
     ]
    },
    {
     "name": "stdout",
     "output_type": "stream",
     "text": [
      "ABCD\n",
      "EFGH\n",
      "IJKL\n",
      "IMNO\n",
      "QRST\n",
      "UVWX\n",
      "YZ\n"
     ]
    }
   ],
   "source": [
    "import textwrap\n",
    "data=input()\n",
    "n=int(input())\n",
    "print(textwrap.fill(data,n))"
   ]
  },
  {
   "cell_type": "markdown",
   "id": "7dbf5195-b59a-4b55-95f0-e886981a7d71",
   "metadata": {},
   "source": [
    "# Question 97\n",
    "---\n",
    ">You are given an integer, N. Your task is to print an alphabet rangoli of size N. (Rangoli is a form of Indian folk art based on creation of patterns.)\n",
    "\n",
    ">Different sizes of alphabet rangoli are shown below:\n",
    "\n",
    "#size 3\n",
    "\n",
    "    ----c----\n",
    "    --c-b-c--\n",
    "    c-b-a-b-c\n",
    "    --c-b-c--\n",
    "    ----c----\n",
    "\n",
    "#size 5\n",
    "\n",
    "    --------e--------\n",
    "    ------e-d-e------\n",
    "    ----e-d-c-d-e----\n",
    "    --e-d-c-b-c-d-e--\n",
    "    e-d-c-b-a-b-c-d-e\n",
    "    --e-d-c-b-c-d-e--\n",
    "    ----e-d-c-d-e----\n",
    "    ------e-d-e------\n",
    "    --------e--------\n",
    "### Hints\n",
    ">First print the half of the Rangoli in the given way and save each line in a list. Then print the list in reverse order to get the rest."
   ]
  },
  {
   "cell_type": "code",
   "execution_count": 11,
   "id": "709f2946-837b-40e9-9cc5-b50251e996dc",
   "metadata": {},
   "outputs": [],
   "source": [
    "# No solution"
   ]
  },
  {
   "cell_type": "markdown",
   "id": "425047e7-fc04-4f44-b572-8eb721f36d0d",
   "metadata": {},
   "source": [
    "# Question 98\n",
    "---\n",
    ">You are given a date. Your task is to find what the day is on that date.\n",
    "\n",
    "### Input\n",
    "\n",
    ">A single line of input containing the space separated month, day and year, respectively, in MM DD YYYY format.\n",
    "\n",
    "    08 05 2015\n",
    "### Output\n",
    "\n",
    ">Output the correct day in capital letters.\n",
    "\n",
    "    WEDNESDAY\n",
    "### Hints\n",
    ">Use weekday function of calender module\n",
    "\n"
   ]
  },
  {
   "cell_type": "code",
   "execution_count": 10,
   "id": "c1823d53-b69d-49f6-a047-d453181bac94",
   "metadata": {},
   "outputs": [
    {
     "name": "stdin",
     "output_type": "stream",
     "text": [
      " 08 05 2015\n"
     ]
    },
    {
     "name": "stdout",
     "output_type": "stream",
     "text": [
      "WEDNESDAY\n"
     ]
    }
   ],
   "source": [
    "import calendar\n",
    "month, day, year=map(int, input().split())\n",
    "print(calendar.day_name[calendar.weekday(year, month, day)].upper())"
   ]
  },
  {
   "cell_type": "markdown",
   "id": "5eae292d-119f-4361-83a2-bcb97027f703",
   "metadata": {},
   "source": [
    "# Question 99\n",
    "---\n",
    "> Given 2 sets of integers, M and N, print their symmetric difference in ascending order. The term symmetric difference indicates those values that exist in either M or N but do not exist in both.\n",
    "\n",
    "### Input\n",
    "\n",
    ">The first line of input contains an integer, M.The second line contains M space-separated integers.The third line contains an integer, N.The fourth line contains N space-separated integers.\n",
    "\n",
    "    4\n",
    "    2 4 5 9\n",
    "    4\n",
    "    2 4 11 12\n",
    "### Output\n",
    "\n",
    ">Output the symmetric difference integers in ascending order, one per line.\n",
    "\n",
    "    5\n",
    "    9\n",
    "    11\n",
    "    12\n",
    "### Hints\n",
    ">Use '^' to make symmetric difference operation."
   ]
  },
  {
   "cell_type": "code",
   "execution_count": 7,
   "id": "f31b989f-c664-4e19-96b1-4a38c0d1e082",
   "metadata": {},
   "outputs": [
    {
     "name": "stdin",
     "output_type": "stream",
     "text": [
      " 4\n",
      " 2 4 5 9\n",
      " 4\n",
      " 2 4 11 12\n"
     ]
    },
    {
     "name": "stdout",
     "output_type": "stream",
     "text": [
      "5\n",
      "9\n",
      "11\n",
      "12\n"
     ]
    }
   ],
   "source": [
    "in1=int(input())\n",
    "lst1=set(map(int,input().split()))\n",
    "\n",
    "in2=int(input())\n",
    "lst2=set(map(int,input().split()))\n",
    "\n",
    "lst=list(lst1 ^ lst2)\n",
    "lst=[str(i) for i in lst]\n",
    "print(\"\\n\".join(lst))"
   ]
  },
  {
   "cell_type": "code",
   "execution_count": null,
   "id": "a393e5df-2a22-4c95-94cd-79e86effdaa3",
   "metadata": {},
   "outputs": [],
   "source": []
  }
 ],
 "metadata": {
  "kernelspec": {
   "display_name": "Python 3 (ipykernel)",
   "language": "python",
   "name": "python3"
  },
  "language_info": {
   "codemirror_mode": {
    "name": "ipython",
    "version": 3
   },
   "file_extension": ".py",
   "mimetype": "text/x-python",
   "name": "python",
   "nbconvert_exporter": "python",
   "pygments_lexer": "ipython3",
   "version": "3.12.4"
  }
 },
 "nbformat": 4,
 "nbformat_minor": 5
}
