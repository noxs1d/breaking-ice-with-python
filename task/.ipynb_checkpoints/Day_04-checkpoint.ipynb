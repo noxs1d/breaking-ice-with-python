{
 "cells": [
  {
   "cell_type": "markdown",
   "id": "0fa86a88-b819-4fd7-9fe2-cdf552cc3fe3",
   "metadata": {},
   "source": [
    "# Question 14\n",
    "---\n",
    ">Write a program that accepts a sentence and calculate the number of upper case letters and lower case letters"
   ]
  },
  {
   "cell_type": "code",
   "execution_count": 1,
   "id": "91dde814-82cd-4398-abac-99983346fd76",
   "metadata": {},
   "outputs": [
    {
     "name": "stdin",
     "output_type": "stream",
     "text": [
      " Hello World\n"
     ]
    },
    {
     "name": "stdout",
     "output_type": "stream",
     "text": [
      "Uppercase:2\n",
      "Lowercase:8\n"
     ]
    }
   ],
   "source": [
    "data=input()\n",
    "L,U=0,0\n",
    "for i in data:\n",
    "    if 'a'<=i and i<='z':\n",
    "        L+=1\n",
    "    if 'A'<=i and i<='Z':\n",
    "        U+=1\n",
    "\n",
    "print(f'Uppercase:{U}\\nLowercase:{L}')"
   ]
  },
  {
   "cell_type": "markdown",
   "id": "e271893c-896a-4fd7-acee-63f8930c5b80",
   "metadata": {},
   "source": [
    "# Question 15\n",
    "---\n",
    ">Write a program that computes the value of a+aa+aaa+aaaa with a given digit as the value of a."
   ]
  },
  {
   "cell_type": "code",
   "execution_count": 5,
   "id": "8a5fc6ae-e9a8-4979-81b5-549ad6467efc",
   "metadata": {},
   "outputs": [
    {
     "name": "stdin",
     "output_type": "stream",
     "text": [
      " 9\n"
     ]
    },
    {
     "name": "stdout",
     "output_type": "stream",
     "text": [
      "11106\n"
     ]
    }
   ],
   "source": [
    "num=input()\n",
    "res=int(num)+int(2*num)+int(3*num)+int(4*num)\n",
    "print(res)"
   ]
  },
  {
   "cell_type": "code",
   "execution_count": null,
   "id": "ec988d81-5eb4-4ded-a2f6-a39399c610dd",
   "metadata": {},
   "outputs": [],
   "source": []
  }
 ],
 "metadata": {
  "kernelspec": {
   "display_name": "Python 3 (ipykernel)",
   "language": "python",
   "name": "python3"
  },
  "language_info": {
   "codemirror_mode": {
    "name": "ipython",
    "version": 3
   },
   "file_extension": ".py",
   "mimetype": "text/x-python",
   "name": "python",
   "nbconvert_exporter": "python",
   "pygments_lexer": "ipython3",
   "version": "3.12.4"
  }
 },
 "nbformat": 4,
 "nbformat_minor": 5
}
