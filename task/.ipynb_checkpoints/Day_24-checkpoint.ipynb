{
 "cells": [
  {
   "cell_type": "markdown",
   "id": "944881e3-f496-4a6d-a011-64975defda8b",
   "metadata": {},
   "source": [
    "# Question 100\n",
    "---\n",
    ">You are given words. Some words may repeat. For each word, output its number of occurrences. The output order should correspond with the input order of appearance of the word. See the sample input/output for clarification.\n",
    "\n",
    ">If the following string is given as input to the program:\n",
    "\n",
    "    4\n",
    "    bcdef\n",
    "    abcdefg\n",
    "    bcde\n",
    "    bcdef\n",
    ">Then, the output of the program should be:\n",
    "\n",
    "    3\n",
    "    2 1 1\n",
    "### Hints\n",
    ">Make a list to get the input order and a dictionary to count the word frequency"
   ]
  },
  {
   "cell_type": "code",
   "execution_count": 2,
   "id": "eb5276a6-6463-417e-a008-03e11973b17c",
   "metadata": {},
   "outputs": [
    {
     "name": "stdin",
     "output_type": "stream",
     "text": [
      " 4\n",
      " bcdef\n",
      " abcdefg\n",
      " bcde\n",
      " bcdef\n"
     ]
    },
    {
     "name": "stdout",
     "output_type": "stream",
     "text": [
      "2\n",
      "1\n",
      "1\n",
      "2\n"
     ]
    }
   ],
   "source": [
    "n=int(input())\n",
    "lst=list()\n",
    "dct=dict()\n",
    "for i in range(n):\n",
    "    lst.append(input())\n",
    "    if lst[i] in dct:\n",
    "        dct[lst[i]]+=1\n",
    "    else:\n",
    "        dct[lst[i]]=1\n",
    "\n",
    "for i in lst:\n",
    "    print(dct[i])\n"
   ]
  },
  {
   "cell_type": "code",
   "execution_count": 3,
   "id": "c8da74cd-65b6-4244-bcbe-e6087c8f404b",
   "metadata": {},
   "outputs": [
    {
     "name": "stdin",
     "output_type": "stream",
     "text": [
      " 4\n",
      " bcdef\n",
      " abcdefg\n",
      " bcde\n",
      " bcdef\n"
     ]
    },
    {
     "name": "stdout",
     "output_type": "stream",
     "text": [
      "3\n",
      "2 1 1 "
     ]
    }
   ],
   "source": [
    "n = int(input())\n",
    "\n",
    "word_list = []\n",
    "word_dict = {}\n",
    "\n",
    "for i in range(n):\n",
    "    word = input()\n",
    "    if word not in word_dict:\n",
    "        word_list.append(word)\n",
    "    word_dict[word] = word_dict.get(word, 0) + 1\n",
    "\n",
    "print(len(word_list))\n",
    "for word in word_list:\n",
    "    print(word_dict[word], end=' ')"
   ]
  },
  {
   "cell_type": "markdown",
   "id": "66df3284-a857-46f5-a7d2-2b16eb77de67",
   "metadata": {},
   "source": [
    "# Question 101\n",
    "---\n",
    ">You are given a string.Your task is to count the frequency of letters of the string and print the letters in descending order of frequency.\n",
    "\n",
    ">If the following string is given as input to the program:\n",
    "\n",
    "    aabbbccde\n",
    ">Then, the output of the program should be:\n",
    "\n",
    "    b 3\n",
    "    a 2\n",
    "    c 2\n",
    "    d 1\n",
    "    e 1\n",
    "### Hints\n",
    ">Count frequency with dictionary and sort by Value from dictionary Items"
   ]
  },
  {
   "cell_type": "code",
   "execution_count": 5,
   "id": "e9758366-c79d-4339-a15f-1e6e69d34af5",
   "metadata": {},
   "outputs": [
    {
     "name": "stdin",
     "output_type": "stream",
     "text": [
      " aabbbccde\n"
     ]
    },
    {
     "name": "stdout",
     "output_type": "stream",
     "text": [
      "b 3\n",
      "a 2\n",
      "c 2\n",
      "d 1\n",
      "e 1\n"
     ]
    }
   ],
   "source": [
    "string=input()\n",
    "dct=dict()\n",
    "for i in string:\n",
    "    dct[i]=dct.get(i,0)+1\n",
    "\n",
    "dct=sorted(dct.items(), key=lambda x: (-x[1],x[0]))\n",
    "for i in dct:\n",
    "    print(i[0], i[1])"
   ]
  },
  {
   "cell_type": "markdown",
   "id": "d4ca44be-754c-4810-804b-20c79387eba6",
   "metadata": {},
   "source": [
    "# Question 102\n",
    "---\n",
    ">Write a Python program that accepts a string and calculate the number of digits and letters.\n",
    "\n",
    "### Input\n",
    "\n",
    "    Hello321Bye360\n",
    "### Output\n",
    "\n",
    "    Digit - 6\n",
    "    Letter - 8\n",
    "---\n",
    "### Hints\n",
    ">Use isdigit() and isalpha() function"
   ]
  },
  {
   "cell_type": "code",
   "execution_count": 6,
   "id": "fb7b1a9a-ba6f-4701-8394-b37127e1851e",
   "metadata": {},
   "outputs": [
    {
     "name": "stdin",
     "output_type": "stream",
     "text": [
      " Hello321Bye360\n"
     ]
    },
    {
     "name": "stdout",
     "output_type": "stream",
     "text": [
      "Digit - 6 \n",
      "Letter - 8\n"
     ]
    }
   ],
   "source": [
    "string=input()\n",
    "d,l=0,0\n",
    "for i in string:\n",
    "    if i.isdigit():d+=1\n",
    "    if i.isalpha():l+=1\n",
    "\n",
    "print(f\"Digit - {d} \\nLetter - {l}\")"
   ]
  },
  {
   "cell_type": "markdown",
   "id": "b92f1ac3-a6ad-4742-8aa7-9de16acec738",
   "metadata": {},
   "source": [
    "# Question 103\n",
    "---\n",
    ">Given a number N.Find Sum of 1 to N Using Recursion\n",
    "\n",
    "### Input\n",
    "\n",
    "    5\n",
    "### Output\n",
    "\n",
    "    15\n",
    "### Hints\n",
    ">Make a recursive function to get the sum"
   ]
  },
  {
   "cell_type": "code",
   "execution_count": 7,
   "id": "0ca1009d-74de-40c9-a7cd-71c0f07a0fb2",
   "metadata": {},
   "outputs": [
    {
     "name": "stdin",
     "output_type": "stream",
     "text": [
      " 5\n"
     ]
    },
    {
     "name": "stdout",
     "output_type": "stream",
     "text": [
      "15\n"
     ]
    }
   ],
   "source": [
    "def rec(n):\n",
    "    if n==1:\n",
    "        return 1\n",
    "    else:\n",
    "        return n+rec(n-1)\n",
    "\n",
    "print(rec(int(input())))"
   ]
  },
  {
   "cell_type": "code",
   "execution_count": null,
   "id": "7127f057-86b2-4b3c-a41e-d9a7971c5383",
   "metadata": {},
   "outputs": [],
   "source": []
  }
 ],
 "metadata": {
  "kernelspec": {
   "display_name": "Python 3 (ipykernel)",
   "language": "python",
   "name": "python3"
  },
  "language_info": {
   "codemirror_mode": {
    "name": "ipython",
    "version": 3
   },
   "file_extension": ".py",
   "mimetype": "text/x-python",
   "name": "python",
   "nbconvert_exporter": "python",
   "pygments_lexer": "ipython3",
   "version": "3.12.4"
  }
 },
 "nbformat": 4,
 "nbformat_minor": 5
}
