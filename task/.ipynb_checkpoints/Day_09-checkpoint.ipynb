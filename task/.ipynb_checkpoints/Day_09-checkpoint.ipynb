{
 "cells": [
  {
   "cell_type": "markdown",
   "id": "00b29f1e-0d83-4c75-a985-dd46eb24b185",
   "metadata": {},
   "source": [
    "# Question 26\n",
    "---\n",
    ">Define a function which can compute the sum of two numbers.\n"
   ]
  },
  {
   "cell_type": "code",
   "execution_count": 1,
   "id": "12a8fef2-c1fe-40f5-8cc6-b3f05893efad",
   "metadata": {},
   "outputs": [
    {
     "name": "stdout",
     "output_type": "stream",
     "text": [
      "8\n"
     ]
    }
   ],
   "source": [
    "def sum_of_two(a,b):\n",
    "    return a+b\n",
    "print(sum_of_two(2,6))"
   ]
  },
  {
   "cell_type": "markdown",
   "id": "2477cde5-097e-40ef-9819-2bd294ebe718",
   "metadata": {},
   "source": [
    "# Question 27\n",
    "---\n",
    ">Define a function that can convert a integer into a string and print it in console."
   ]
  },
  {
   "cell_type": "code",
   "execution_count": 2,
   "id": "7af36632-dbc2-405b-b447-f6f42aa80e85",
   "metadata": {},
   "outputs": [
    {
     "name": "stdout",
     "output_type": "stream",
     "text": [
      "8\n",
      "<class 'str'>\n"
     ]
    },
    {
     "data": {
      "text/plain": [
       "'8'"
      ]
     },
     "execution_count": 2,
     "metadata": {},
     "output_type": "execute_result"
    }
   ],
   "source": [
    "def conv(a: int):\n",
    "    a=str(a)\n",
    "    print(a)\n",
    "    print(type(a))\n",
    "    return a\n",
    "conv(8)"
   ]
  },
  {
   "cell_type": "markdown",
   "id": "7cb66ae2-5023-494f-847b-62efe4cb2388",
   "metadata": {},
   "source": [
    "# Question 28\n",
    "---\n",
    ">Define a function that can receive two integer numbers in string form and compute their sum and then print it in console."
   ]
  },
  {
   "cell_type": "code",
   "execution_count": 3,
   "id": "15549f3b-9094-4197-83f4-0d9956455201",
   "metadata": {},
   "outputs": [
    {
     "name": "stdout",
     "output_type": "stream",
     "text": [
      "18\n"
     ]
    },
    {
     "data": {
      "text/plain": [
       "18"
      ]
     },
     "execution_count": 3,
     "metadata": {},
     "output_type": "execute_result"
    }
   ],
   "source": [
    "def func(a:str, b:str):\n",
    "    x=int(a)+int(b)\n",
    "    print(x)\n",
    "    return x\n",
    "func(\"8\",\"10\")"
   ]
  },
  {
   "cell_type": "markdown",
   "id": "1a4f1a21-9525-413e-b380-af32888344b9",
   "metadata": {},
   "source": [
    "# Question 29\n",
    "> Define a function that can accept two strings as input and concatenate them and then print it in console."
   ]
  },
  {
   "cell_type": "code",
   "execution_count": 4,
   "id": "3ea5c6a7-0aaf-4da8-be80-c1bbb838e5a1",
   "metadata": {},
   "outputs": [
    {
     "name": "stdout",
     "output_type": "stream",
     "text": [
      "1022\n"
     ]
    }
   ],
   "source": [
    "sum = lambda a,b: a+b\n",
    "print(sum(\"10\",\"22\"))"
   ]
  },
  {
   "cell_type": "markdown",
   "id": "1ce50562-67f5-4524-9bb2-a7dc406fa05d",
   "metadata": {},
   "source": [
    "# Question 30\n",
    "> Define a function that can accept two strings as input and print the string with maximum length in console. If two strings have the same length, then the function should print all strings line by line."
   ]
  },
  {
   "cell_type": "code",
   "execution_count": 6,
   "id": "68a61f2c-e55a-4445-84da-6586ad6c7cde",
   "metadata": {},
   "outputs": [
    {
     "name": "stdout",
     "output_type": "stream",
     "text": [
      "abcde\n",
      "abcd\n",
      "line\n",
      "line\n"
     ]
    }
   ],
   "source": [
    "def line_string(a:str,b:str):\n",
    "    if len(a) > len(b):\n",
    "        print(a)\n",
    "    elif len(a)==len(b):\n",
    "        print(a)\n",
    "        print(b)\n",
    "    else:\n",
    "        print(b)\n",
    "\n",
    "line_string(\"abcde\",\"line\")\n",
    "line_string(\"abcd\",\"line\")\n",
    "line_string(\"abc\",\"line\")"
   ]
  },
  {
   "cell_type": "code",
   "execution_count": null,
   "id": "aee32bf4-0a50-48d3-be72-4ebcb941c14f",
   "metadata": {},
   "outputs": [],
   "source": []
  }
 ],
 "metadata": {
  "kernelspec": {
   "display_name": "Python 3 (ipykernel)",
   "language": "python",
   "name": "python3"
  },
  "language_info": {
   "codemirror_mode": {
    "name": "ipython",
    "version": 3
   },
   "file_extension": ".py",
   "mimetype": "text/x-python",
   "name": "python",
   "nbconvert_exporter": "python",
   "pygments_lexer": "ipython3",
   "version": "3.12.4"
  }
 },
 "nbformat": 4,
 "nbformat_minor": 5
}
