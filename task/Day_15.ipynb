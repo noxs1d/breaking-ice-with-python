{
 "cells": [
  {
   "cell_type": "markdown",
   "id": "88b905a6-fd60-4b9c-b10a-883d8889526a",
   "metadata": {},
   "source": [
    "# Question 54\n",
    "---\n",
    ">Assuming that we have some email addresses in the \"username@companyname.com\" format, please write program to print the company name of a given email address. Both user names and company names are composed of letters only.\n",
    "\n",
    ">Example: If the following email address is given as input to the program:\n",
    "\n",
    "```john@google.com```\n",
    "\n",
    ">Then, the output of the program should be:\n",
    "\n",
    "```google```\n",
    ">In case of input data being supplied to the question, it should be assumed to be a console input.\n",
    "\n",
    "### Hints\n",
    ">Use \\w to match letters."
   ]
  },
  {
   "cell_type": "code",
   "execution_count": 8,
   "id": "ae57e6fa-94a8-4f87-ba3e-6d08f7bec4f3",
   "metadata": {},
   "outputs": [
    {
     "name": "stderr",
     "output_type": "stream",
     "text": [
      "<>:4: SyntaxWarning: invalid escape sequence '\\w'\n",
      "<>:4: SyntaxWarning: invalid escape sequence '\\w'\n",
      "C:\\Users\\NoXS1d\\AppData\\Local\\Temp\\ipykernel_16096\\842615210.py:4: SyntaxWarning: invalid escape sequence '\\w'\n",
      "  pattern=\"\\w+@(\\w+).com\"\n"
     ]
    },
    {
     "name": "stdin",
     "output_type": "stream",
     "text": [
      " hello@world.com\n"
     ]
    },
    {
     "name": "stdout",
     "output_type": "stream",
     "text": [
      "['world']\n"
     ]
    }
   ],
   "source": [
    "import re\n",
    "\n",
    "data=input()\n",
    "pattern=\"\\w+@(\\w+).com\"\n",
    "res=re.findall(pattern, data)\n",
    "print(res)"
   ]
  },
  {
   "cell_type": "markdown",
   "id": "7e39bfef-51f2-4360-bdb4-01617ec8bd2d",
   "metadata": {},
   "source": [
    "# Question 55\n",
    "---\n",
    "> Write a program which accepts a sequence of words separated by whitespace as input to print the words composed of digits only.\n",
    "\n",
    ">Example: If the following words is given as input to the program:\n",
    "\n",
    "```2 cats and 3 dogs.```\n",
    ">Then, the output of the program should be:\n",
    "\n",
    "```['2', '3']```\n",
    "\n",
    ">In case of input data being supplied to the question, it should be assumed to be a console input.\n",
    "\n",
    "### Hints\n",
    ">Use re.findall() to find all substring using regex."
   ]
  },
  {
   "cell_type": "code",
   "execution_count": 9,
   "id": "1fc73b88-fe61-43ee-ba92-3a6a6154a548",
   "metadata": {},
   "outputs": [
    {
     "name": "stderr",
     "output_type": "stream",
     "text": [
      "<>:3: SyntaxWarning: invalid escape sequence '\\d'\n",
      "<>:3: SyntaxWarning: invalid escape sequence '\\d'\n",
      "C:\\Users\\NoXS1d\\AppData\\Local\\Temp\\ipykernel_16096\\2349138692.py:3: SyntaxWarning: invalid escape sequence '\\d'\n",
      "  pattern=\"\\d+\"\n"
     ]
    },
    {
     "name": "stdin",
     "output_type": "stream",
     "text": [
      " 2 dog and 3 cats\n"
     ]
    },
    {
     "name": "stdout",
     "output_type": "stream",
     "text": [
      "['2', '3']\n"
     ]
    }
   ],
   "source": [
    "import re\n",
    "data=input()\n",
    "pattern=\"\\d+\"\n",
    "print(re.findall(pattern,data))"
   ]
  },
  {
   "cell_type": "markdown",
   "id": "2fc6e3fd-3f92-428a-acd8-24b8de17dc81",
   "metadata": {},
   "source": [
    "# Question 56\n",
    "---\n",
    "> Print a unicode string \"hello world\".\n",
    "\n",
    "### Hints\n",
    ">Use u'strings' format to define unicode string."
   ]
  },
  {
   "cell_type": "code",
   "execution_count": 11,
   "id": "38b9ed2d-0afd-44a7-b2af-a954191538d9",
   "metadata": {},
   "outputs": [
    {
     "name": "stdout",
     "output_type": "stream",
     "text": [
      "hello world\n"
     ]
    }
   ],
   "source": [
    "string=u'hello world'\n",
    "print(string)"
   ]
  },
  {
   "cell_type": "markdown",
   "id": "0f348df3-0b5c-4e19-8cf7-a6b4dde3b0b6",
   "metadata": {},
   "source": [
    "# Question 57\n",
    "---\n",
    "> Write a program to read an ASCII string and to convert it to a unicode string encoded by utf-8.\n",
    "\n",
    "### Hints\n",
    "> Use unicode()/encode() function to convert."
   ]
  },
  {
   "cell_type": "code",
   "execution_count": 13,
   "id": "8754e42f-f925-41c3-9a1d-ccddfbd9ddc6",
   "metadata": {},
   "outputs": [
    {
     "name": "stdin",
     "output_type": "stream",
     "text": [
      " привет мир\n"
     ]
    },
    {
     "name": "stdout",
     "output_type": "stream",
     "text": [
      "b'\\xd0\\xbf\\xd1\\x80\\xd0\\xb8\\xd0\\xb2\\xd0\\xb5\\xd1\\x82 \\xd0\\xbc\\xd0\\xb8\\xd1\\x80'\n"
     ]
    }
   ],
   "source": [
    "string=input()\n",
    "print(string.encode('utf-8'))"
   ]
  },
  {
   "cell_type": "markdown",
   "id": "b77b0971-8aab-4e56-b23e-74a771414095",
   "metadata": {},
   "source": [
    "# Question 58\n",
    ">Write a special comment to indicate a Python source code file is in unicode.\n",
    "\n",
    "### Hints\n",
    "\n",
    ">Use unicode() function to convert.\n"
   ]
  },
  {
   "cell_type": "code",
   "execution_count": 14,
   "id": "6b75c19a-70cd-4dce-97d5-2e5597bd8473",
   "metadata": {},
   "outputs": [],
   "source": [
    "# -*- coding: utf-8 -*-"
   ]
  },
  {
   "cell_type": "markdown",
   "id": "f80803ce-f039-47ad-92a0-6cd38c652a33",
   "metadata": {},
   "source": [
    "# Question 59\n",
    "---\n",
    ">Write a program to compute 1/2+2/3+3/4+...+n/n+1 with a given n input by console (n>0).\n",
    "\n",
    ">Example: If the following n is given as input to the program:\n",
    "\n",
    "```5```\n",
    ">Then, the output of the program should be:\n",
    "\n",
    "```3.55```\n",
    ">In case of input data being supplied to the question, it should be assumed to be a console input.\n",
    "\n",
    "### Hints\n",
    ">Use float() to convert an integer to a float.Even if not converted it wont cause a problem because python by default understands the data type of a value"
   ]
  },
  {
   "cell_type": "code",
   "execution_count": 16,
   "id": "6c67fbca-ffbc-45a6-bfe8-124848057fca",
   "metadata": {},
   "outputs": [
    {
     "name": "stdin",
     "output_type": "stream",
     "text": [
      " 5\n"
     ]
    },
    {
     "name": "stdout",
     "output_type": "stream",
     "text": [
      "3.5500000000000003\n"
     ]
    }
   ],
   "source": [
    "data=int(input())\n",
    "res=0\n",
    "for i in range(1,data+1):\n",
    "    res+=i/(i+1)\n",
    "\n",
    "print(res)"
   ]
  },
  {
   "cell_type": "code",
   "execution_count": null,
   "id": "fbcff277-4677-4615-b339-0ec58995991f",
   "metadata": {},
   "outputs": [],
   "source": []
  }
 ],
 "metadata": {
  "kernelspec": {
   "display_name": "Python 3 (ipykernel)",
   "language": "python",
   "name": "python3"
  },
  "language_info": {
   "codemirror_mode": {
    "name": "ipython",
    "version": 3
   },
   "file_extension": ".py",
   "mimetype": "text/x-python",
   "name": "python",
   "nbconvert_exporter": "python",
   "pygments_lexer": "ipython3",
   "version": "3.12.4"
  }
 },
 "nbformat": 4,
 "nbformat_minor": 5
}
