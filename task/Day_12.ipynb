{
 "cells": [
  {
   "cell_type": "markdown",
   "id": "e4763e28-245d-4ee6-a2e7-4a7646a66219",
   "metadata": {},
   "source": [
    "# Question 44\n",
    "---\n",
    ">Write a program which can map() to make a list whose elements are square of numbers between 1 and 20 (both included)."
   ]
  },
  {
   "cell_type": "code",
   "execution_count": 1,
   "id": "7583b2d6-4ffc-4d5f-8cd6-7ff2ce43f6df",
   "metadata": {},
   "outputs": [
    {
     "name": "stdout",
     "output_type": "stream",
     "text": [
      "[1, 4, 9, 16, 25, 36, 49, 64, 81, 100, 121, 144, 169, 196, 225, 256, 289, 324, 361, 400]\n"
     ]
    }
   ],
   "source": [
    "print(list(map(lambda x:x**2, [i for i in range(1,21)])))"
   ]
  },
  {
   "cell_type": "markdown",
   "id": "ff6ab651-74f0-486a-8491-2813d332d688",
   "metadata": {},
   "source": [
    "# Question 45\n",
    "---\n",
    ">Define a class named American which has a static method called printNationality."
   ]
  },
  {
   "cell_type": "code",
   "execution_count": 4,
   "id": "bb36ae78-e154-4aec-a419-2a0a5b75a08e",
   "metadata": {},
   "outputs": [
    {
     "name": "stdout",
     "output_type": "stream",
     "text": [
      "I am American\n"
     ]
    }
   ],
   "source": [
    "class American:\n",
    "    @staticmethod\n",
    "    def printNationality():\n",
    "        print(\"I am American\")\n",
    "\n",
    "American().printNationality()"
   ]
  },
  {
   "cell_type": "markdown",
   "id": "ab7b7d05-2816-4198-aa7d-015925f1368c",
   "metadata": {},
   "source": [
    "# Question 46\n",
    "---\n",
    ">Define a class named American and its subclass NewYorker."
   ]
  },
  {
   "cell_type": "code",
   "execution_count": 7,
   "id": "49152ca4-a33a-43af-bd17-c03144411123",
   "metadata": {},
   "outputs": [
    {
     "name": "stdout",
     "output_type": "stream",
     "text": [
      "<__main__.American object at 0x000001E196C1B9B0>\n",
      "<class '__main__.NewYorker'>\n"
     ]
    }
   ],
   "source": [
    "class American(object):\n",
    "    pass\n",
    "\n",
    "class NewYorker(American):\n",
    "    pass\n",
    "\n",
    "print(American())\n",
    "print(type(NewYorker()))"
   ]
  },
  {
   "cell_type": "code",
   "execution_count": null,
   "id": "ee54fa46-cc9d-4264-81fd-d436930c8ce6",
   "metadata": {},
   "outputs": [],
   "source": []
  }
 ],
 "metadata": {
  "kernelspec": {
   "display_name": "Python 3 (ipykernel)",
   "language": "python",
   "name": "python3"
  },
  "language_info": {
   "codemirror_mode": {
    "name": "ipython",
    "version": 3
   },
   "file_extension": ".py",
   "mimetype": "text/x-python",
   "name": "python",
   "nbconvert_exporter": "python",
   "pygments_lexer": "ipython3",
   "version": "3.12.4"
  }
 },
 "nbformat": 4,
 "nbformat_minor": 5
}
