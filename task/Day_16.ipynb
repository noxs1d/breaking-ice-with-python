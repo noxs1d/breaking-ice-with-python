{
 "cells": [
  {
   "cell_type": "markdown",
   "id": "67751c82-81f0-41f8-9906-0c4991f0b318",
   "metadata": {},
   "source": [
    "# Question 60\n",
    "---\n",
    ">Write a program to compute:\n",
    "\n",
    "```f(n)=f(n-1)+100 when n>0```\n",
    "```and f(0)=0```\n",
    ">with a given n input by console (n>0).\n",
    "\n",
    ">Example: If the following n is given as input to the program:\n",
    "\n",
    "```5```\n",
    ">Then, the output of the program should be:\n",
    "\n",
    "```500```\n",
    ">In case of input data being supplied to the question, it should be assumed to be a console input."
   ]
  },
  {
   "cell_type": "code",
   "execution_count": 2,
   "id": "7369a4a9-1314-4828-92d6-adbbac57e85c",
   "metadata": {},
   "outputs": [
    {
     "name": "stdout",
     "output_type": "stream",
     "text": [
      "500\n"
     ]
    }
   ],
   "source": [
    "def func(n:int):\n",
    "    if n==0:\n",
    "        return 0\n",
    "    if n>0:\n",
    "        return func(n-1)+100\n",
    "\n",
    "print(func(5))\n",
    "        "
   ]
  },
  {
   "cell_type": "markdown",
   "id": "09a4d18b-1298-4315-87f1-608177a1f910",
   "metadata": {},
   "source": [
    "# Question 61\n",
    "---\n",
    ">The Fibonacci Sequence is computed based on the following formula:\n",
    "\n",
    "    f(n)=0 if n=0\n",
    "    f(n)=1 if n=1\n",
    "    f(n)=f(n-1)+f(n-2) if n>1\n",
    ">Please write a program to compute the value of f(n) with a given n input by console.\n",
    "\n",
    ">Example: If the following n is given as input to the program:\n",
    "\n",
    "    7\n",
    ">Then, the output of the program should be:\n",
    "\n",
    "    13\n",
    ">In case of input data being supplied to the question, it should be assumed to be a console input.\n",
    "\n",
    "### Hints\n",
    ">We can define recursive function in Python."
   ]
  },
  {
   "cell_type": "code",
   "execution_count": 3,
   "id": "e55909f5-5cee-41cb-b024-3ed66a312b09",
   "metadata": {},
   "outputs": [
    {
     "name": "stdout",
     "output_type": "stream",
     "text": [
      "13\n"
     ]
    }
   ],
   "source": [
    "def fib(n:int):\n",
    "    if n==0:\n",
    "        return 0\n",
    "    if n==1:\n",
    "        return 1\n",
    "    if n>1:\n",
    "        return fib(n-1)+fib(n-2)\n",
    "\n",
    "print(fib(7))"
   ]
  },
  {
   "cell_type": "markdown",
   "id": "6c59fe0a-01b1-43b0-99b5-4edac0b5e851",
   "metadata": {},
   "source": [
    "# Question 62\n",
    "---\n",
    ">The Fibonacci Sequence is computed based on the following formula:\n",
    "\n",
    "    f(n)=0 if n=0\n",
    "    f(n)=1 if n=1\n",
    "    f(n)=f(n-1)+f(n-2) if n>1\n",
    ">Please write a program to compute the value of f(n) with a given n input by console.\n",
    "\n",
    ">Example: If the following n is given as input to the program:\n",
    "\n",
    "    7\n",
    ">Then, the output of the program should be:\n",
    "\n",
    "    0,1,1,2,3,5,8,13\n",
    ">In case of input data being supplied to the question, it should be assumed to be a console input.\n",
    "\n",
    "### Hints\n",
    ">We can define recursive function in Python. Use list comprehension to generate a list from an existing list. Use string.join() to join a list of strings."
   ]
  },
  {
   "cell_type": "code",
   "execution_count": 6,
   "id": "e97a3ced-b727-438c-9e64-429618b3b963",
   "metadata": {},
   "outputs": [
    {
     "name": "stdin",
     "output_type": "stream",
     "text": [
      " 7\n"
     ]
    },
    {
     "name": "stdout",
     "output_type": "stream",
     "text": [
      "0,1,1,2,3,5,8,13\n"
     ]
    }
   ],
   "source": [
    "def fib(n:int):\n",
    "    if n==0:\n",
    "        return 0\n",
    "    if n==1:\n",
    "        return 1\n",
    "    if n>1:\n",
    "        return fib(n-1)+fib(n-2)\n",
    "\n",
    "input=int(input())\n",
    "lst=[str(fib(i)) for i in range(0,input+1)]\n",
    "print(\",\".join(lst))"
   ]
  },
  {
   "cell_type": "markdown",
   "id": "152951b7-968d-4b46-b7b1-5fbc389847ab",
   "metadata": {},
   "source": [
    "# Question 63\n",
    "---\n",
    ">Please write a program using generator to print the even numbers between 0 and n in comma separated form while n is input by console.\n",
    "\n",
    ">Example: If the following n is given as input to the program:\n",
    "\n",
    "    10\n",
    ">Then, the output of the program should be:\n",
    "\n",
    "    0,2,4,6,8,10\n",
    ">In case of input data being supplied to the question, it should be assumed to be a console input.\n",
    "\n",
    "### Hints\n",
    "> Use yield to produce the next value in generator."
   ]
  },
  {
   "cell_type": "code",
   "execution_count": 9,
   "id": "db84b3f1-d324-4d0d-8c95-e3da8f503ed2",
   "metadata": {},
   "outputs": [
    {
     "name": "stdout",
     "output_type": "stream",
     "text": [
      "0,2,4,6,8,10\n"
     ]
    }
   ],
   "source": [
    "def func(n: int):\n",
    "    for i in range(0,n+1):\n",
    "        if i % 2==0:\n",
    "            yield i\n",
    "\n",
    "print(\",\".join([str(i) for i in func(10)]))"
   ]
  },
  {
   "cell_type": "markdown",
   "id": "6101164a-eb50-4d30-b17d-4b01593a85e2",
   "metadata": {},
   "source": [
    "# Question 64\n",
    "---\n",
    ">Please write a program using generator to print the numbers which can be divisible by 5 and 7 between 0 and n in comma separated form while n is input by console.\n",
    "\n",
    ">Example: If the following n is given as input to the program:\n",
    "\n",
    "```100```\n",
    ">Then, the output of the program should be:\n",
    "\n",
    "    0,35,70\n",
    ">In case of input data being supplied to the question, it should be assumed to be a console input.\n",
    "\n",
    "### Hints\n",
    ">Use yield to produce the next value in generator.\n",
    "\n"
   ]
  },
  {
   "cell_type": "code",
   "execution_count": 14,
   "id": "fbd87318-3144-4a8a-9424-807719126e12",
   "metadata": {},
   "outputs": [
    {
     "name": "stdout",
     "output_type": "stream",
     "text": [
      "0,35,70\n"
     ]
    }
   ],
   "source": [
    "def func(n:int):\n",
    "    for i in range(0,n+1):\n",
    "        if i % 5==0 and i%7==0:\n",
    "            yield i\n",
    "\n",
    "print(\",\".join([str(i) for i in func(100)]))"
   ]
  },
  {
   "cell_type": "code",
   "execution_count": null,
   "id": "491219d2-67c5-4eca-8b1e-e2bec7856ed5",
   "metadata": {},
   "outputs": [],
   "source": []
  }
 ],
 "metadata": {
  "kernelspec": {
   "display_name": "Python 3 (ipykernel)",
   "language": "python",
   "name": "python3"
  },
  "language_info": {
   "codemirror_mode": {
    "name": "ipython",
    "version": 3
   },
   "file_extension": ".py",
   "mimetype": "text/x-python",
   "name": "python",
   "nbconvert_exporter": "python",
   "pygments_lexer": "ipython3",
   "version": "3.12.4"
  }
 },
 "nbformat": 4,
 "nbformat_minor": 5
}
