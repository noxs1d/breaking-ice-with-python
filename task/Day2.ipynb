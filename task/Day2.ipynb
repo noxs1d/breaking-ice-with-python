{
 "cells": [
  {
   "cell_type": "markdown",
   "id": "913b0772-3938-44c5-a34c-1a5de0a77147",
   "metadata": {},
   "source": [
    "# Question 4"
   ]
  },
  {
   "cell_type": "raw",
   "id": "bbcce42b-c237-4621-93df-b3557beb2ac1",
   "metadata": {},
   "source": [
    "Write a program which accepts a sequence of comma-separated numbers from console and generate a list and a tuple which contains every number.Suppose the following input is supplied to the program:\n",
    "34,67,55,33,12,98\n",
    "Then, the output should be:\n",
    "['34', '67', '55', '33', '12', '98']\n",
    "('34', '67', '55', '33', '12', '98')"
   ]
  },
  {
   "cell_type": "code",
   "execution_count": 1,
   "id": "1bb9e4d4-18d8-43b0-a35a-ea5ab8ed9eb4",
   "metadata": {},
   "outputs": [
    {
     "name": "stdin",
     "output_type": "stream",
     "text": [
      " 34,67,55,33,12,98\n"
     ]
    },
    {
     "name": "stdout",
     "output_type": "stream",
     "text": [
      "['34', '67', '55', '33', '12', '98']\n",
      "('34', '67', '55', '33', '12', '98')\n"
     ]
    }
   ],
   "source": [
    "def toList(x):\n",
    "    l=x.split(',')\n",
    "    t=tuple(l)\n",
    "    print(l)\n",
    "    print(t)\n",
    "\n",
    "x=str(input())\n",
    "toList(x)"
   ]
  },
  {
   "cell_type": "markdown",
   "id": "b0393ea8-f02a-4f76-8ec8-e4fdedca56cf",
   "metadata": {},
   "source": [
    "# Question 5"
   ]
  },
  {
   "cell_type": "raw",
   "id": "d5d615fc-0b21-4760-a23a-89fe0d8bd70b",
   "metadata": {},
   "source": [
    "Define a class which has at least two methods:\n",
    "\n",
    "getString: to get a string from console input\n",
    "printString: to print the string in upper case.\n",
    "Also please include simple test function to test the class methods."
   ]
  },
  {
   "cell_type": "code",
   "execution_count": 2,
   "id": "e70d8e67-aba1-4a68-a85e-b8e38acc43fe",
   "metadata": {},
   "outputs": [
    {
     "name": "stdin",
     "output_type": "stream",
     "text": [
      " system\n"
     ]
    },
    {
     "name": "stdout",
     "output_type": "stream",
     "text": [
      "SYSTEM\n"
     ]
    }
   ],
   "source": [
    "class A:\n",
    "    def __init__(self):\n",
    "        self.string=\"\"\n",
    "    def getString(self):\n",
    "        self.string=input()\n",
    "    def printString(self):\n",
    "        print(self.string.upper())\n",
    "\n",
    "a=A()\n",
    "a.getString()\n",
    "a.printString()"
   ]
  },
  {
   "cell_type": "markdown",
   "id": "f447ef95-aa50-469b-b903-d411197b5a3d",
   "metadata": {},
   "source": [
    "# Question 6\n",
    "> Write a program that calculates and prints the value according to the given formula:\n",
    "\n",
    "> Q = Square root of [(2 _ C _ D)/H]\n",
    "\n",
    "> Following are the fixed values of C and H:\n",
    "\n",
    "> C is 50. H is 30.\n",
    "\n",
    "> D is the variable whose values should be input to your program in a comma-separated sequence.For example Let us assume the following comma separated input sequence is given to the program:"
   ]
  },
  {
   "cell_type": "code",
   "execution_count": 4,
   "id": "3cfb7852-8d94-4262-922f-f69d0d2eac11",
   "metadata": {},
   "outputs": [
    {
     "name": "stdin",
     "output_type": "stream",
     "text": [
      " 100,150,180\n"
     ]
    },
    {
     "name": "stdout",
     "output_type": "stream",
     "text": [
      "18,22,24\n"
     ]
    }
   ],
   "source": [
    "from math import sqrt \n",
    "C,H=50,30\n",
    "\n",
    "def calc(D: int):\n",
    "    return sqrt((2*C*D)/H)\n",
    "\n",
    "D=[int(i) for i in input().split(',')]\n",
    "D=[int(i) for i in D]\n",
    "D=[calc(i) for i  in D]\n",
    "D=[round(i) for i in D]\n",
    "D=[str(i) for i in D]\n",
    "print(\",\".join(D))"
   ]
  },
  {
   "cell_type": "markdown",
   "id": "d183d131-90cc-455e-b6b8-4bc82ac6a2a7",
   "metadata": {},
   "source": [
    "# Question 7\n",
    "\n",
    ">Write a program which takes 2 digits, X,Y as input and generates a 2-dimensional array. The element value in the i-th row and j-th column of the array should be i _ j.*\n",
    "\n",
    ">Note: i=0,1.., X-1; j=0,1,¡­Y-1. Suppose the following inputs are given to the program: 3,5\n",
    "\n",
    ">Then, the output of the program should be:\n",
    "\n",
    "```\n",
    "[[0, 0, 0, 0, 0], [0, 1, 2, 3, 4], [0, 2, 4, 6, 8]]\n",
    "```"
   ]
  },
  {
   "cell_type": "code",
   "execution_count": 2,
   "id": "ebe6b0bb-eaa4-470c-b4a8-7145f1209276",
   "metadata": {},
   "outputs": [
    {
     "name": "stdin",
     "output_type": "stream",
     "text": [
      " 3,5\n"
     ]
    },
    {
     "name": "stdout",
     "output_type": "stream",
     "text": [
      "[[0, 0, 0, 0, 0], [0, 1, 2, 3, 4], [0, 2, 4, 6, 8]]\n"
     ]
    }
   ],
   "source": [
    "x,y=map(int, input().split(','))\n",
    "lst = [[i*j for j in range(y)] for i in range(x)]\n",
    "print(lst)"
   ]
  },
  {
   "cell_type": "markdown",
   "id": "24450a89-d926-405c-9f25-2ffb1badc75c",
   "metadata": {},
   "source": [
    "# Question 8\n",
    ">Write a program that accepts a comma separated sequence of words as input and prints the words in a comma-separated sequence after sorting them alphabetically."
   ]
  },
  {
   "cell_type": "code",
   "execution_count": 4,
   "id": "f5946a6a-33e8-4464-90d8-55c937469ce2",
   "metadata": {},
   "outputs": [
    {
     "name": "stdin",
     "output_type": "stream",
     "text": [
      " without,hello,bag,world\n"
     ]
    },
    {
     "name": "stdout",
     "output_type": "stream",
     "text": [
      "bag,hello,without,world\n"
     ]
    }
   ],
   "source": [
    "print(\",\".join(sorted(input().split(\",\"))))"
   ]
  },
  {
   "cell_type": "markdown",
   "id": "00ea2bbf-e42b-4f69-be31-893ad3968d6b",
   "metadata": {},
   "source": [
    "# Question 9\n",
    "\n",
    ">Write a program that accepts sequence of lines as input and prints the lines after making all characters in the sentence capitalized.\n",
    "\n",
    ">Suppose the following input is supplied to the program:\n",
    "\n",
    "`Hello world\n",
    "Practice makes perfect`"
   ]
  },
  {
   "cell_type": "code",
   "execution_count": 5,
   "id": "d8cb04e4-04c9-4e5a-98cf-31942406de0c",
   "metadata": {},
   "outputs": [
    {
     "name": "stdin",
     "output_type": "stream",
     "text": [
      " Hello world\n",
      " Practice makes perfect\n",
      " \n"
     ]
    },
    {
     "name": "stdout",
     "output_type": "stream",
     "text": [
      "HELLO WORLD\n",
      "PRACTICE MAKES PERFECT\n"
     ]
    }
   ],
   "source": [
    "lst = []\n",
    "\n",
    "while True:\n",
    "    x = input()\n",
    "    if len(x)==0:\n",
    "        break\n",
    "    lst.append(x.upper())\n",
    "\n",
    "for line in lst:\n",
    "    print(line)"
   ]
  },
  {
   "cell_type": "code",
   "execution_count": null,
   "id": "e4138e2d-ec21-4785-8faf-23763d2e0879",
   "metadata": {},
   "outputs": [],
   "source": []
  }
 ],
 "metadata": {
  "kernelspec": {
   "display_name": "Python 3 (ipykernel)",
   "language": "python",
   "name": "python3"
  },
  "language_info": {
   "codemirror_mode": {
    "name": "ipython",
    "version": 3
   },
   "file_extension": ".py",
   "mimetype": "text/x-python",
   "name": "python",
   "nbconvert_exporter": "python",
   "pygments_lexer": "ipython3",
   "version": "3.12.4"
  }
 },
 "nbformat": 4,
 "nbformat_minor": 5
}
