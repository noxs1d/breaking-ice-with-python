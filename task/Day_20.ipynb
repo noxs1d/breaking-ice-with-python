{
 "cells": [
  {
   "cell_type": "markdown",
   "id": "f0842c92-d39e-4cf6-8ab9-3f578a81daad",
   "metadata": {},
   "source": [
    "# Question 80\n",
    "---\n",
    ">Please write a program to print the list after removing even numbers in [5,6,77,45,22,12,24].\n",
    "\n",
    "### Hints\n",
    ">Use list comprehension to delete a bunch of element from a list."
   ]
  },
  {
   "cell_type": "code",
   "execution_count": 4,
   "id": "48ded5b0-dd4c-4af2-9afc-15fb6f9d8c5e",
   "metadata": {},
   "outputs": [
    {
     "name": "stdout",
     "output_type": "stream",
     "text": [
      "[5, 77, 45]\n"
     ]
    }
   ],
   "source": [
    "lst=[5,6,77,45,22,12,24]\n",
    "lst=[i for i in lst if i%2!=0]\n",
    "print(lst)"
   ]
  },
  {
   "cell_type": "markdown",
   "id": "a94b10a6-8437-4c46-b863-d71a4760c626",
   "metadata": {},
   "source": [
    "# Question 81\n",
    "---\n",
    ">By using list comprehension, please write a program to print the list after removing numbers which are divisible by 5 and 7 in [12,24,35,70,88,120,155].\n",
    "\n",
    "### Hints\n",
    ">Use list comprehension to delete a bunch of element from a list."
   ]
  },
  {
   "cell_type": "code",
   "execution_count": 5,
   "id": "b4e5f3e5-cc17-4654-9164-dd081fe87fc3",
   "metadata": {},
   "outputs": [
    {
     "name": "stdout",
     "output_type": "stream",
     "text": [
      "[12, 24, 88]\n"
     ]
    }
   ],
   "source": [
    "lst=[12,24,35,70,88,120,155]\n",
    "lst=list(filter(lambda x: x%5!=0 and x%7!=0, lst))\n",
    "print(lst)"
   ]
  },
  {
   "cell_type": "markdown",
   "id": "f0ecc276-4ad2-4fa4-9f37-80464751eacd",
   "metadata": {},
   "source": [
    "# Question 82\n",
    "---\n",
    ">By using list comprehension, please write a program to print the list after removing the 0th, 2nd, 4th,6th numbers in [12,24,35,70,88,120,155].\n",
    "\n",
    "### Hints\n",
    ">Use list comprehension to delete a bunch of element from a list. Use enumerate() to get (index, value) tuple."
   ]
  },
  {
   "cell_type": "code",
   "execution_count": 7,
   "id": "3ff91881-7f8c-4045-b40a-bb53fd7117b3",
   "metadata": {},
   "outputs": [
    {
     "name": "stdout",
     "output_type": "stream",
     "text": [
      "[24, 70, 120]\n"
     ]
    }
   ],
   "source": [
    "lst=[12,24,35,70,88,120,155]\n",
    "lst=[j for (i,j) in enumerate(lst) if i%2!=0 and i<7]\n",
    "print(lst)"
   ]
  },
  {
   "cell_type": "markdown",
   "id": "4ca6d345-4e42-4c25-a648-c7cbb33df669",
   "metadata": {},
   "source": [
    "# Question 83\n",
    "---\n",
    ">By using list comprehension, please write a program to print the list after removing the 2nd - 4th numbers in [12,24,35,70,88,120,155].\n",
    "\n",
    "### Hints\n",
    ">Use list comprehension to delete a bunch of element from a list. Use enumerate() to get (index, value) tuple."
   ]
  },
  {
   "cell_type": "code",
   "execution_count": 8,
   "id": "5fd49159-2ea4-40c1-902e-d685818b34e7",
   "metadata": {},
   "outputs": [
    {
     "name": "stdout",
     "output_type": "stream",
     "text": [
      "[35, 70, 88]\n"
     ]
    }
   ],
   "source": [
    "lst=[12,24,35,70,88,120,155]\n",
    "lst=[i for (j,i) in enumerate(lst) if j>=2 and j<=4]\n",
    "print(lst)"
   ]
  },
  {
   "cell_type": "markdown",
   "id": "eebd2e41-0f27-42aa-9fef-275318ae86c7",
   "metadata": {},
   "source": [
    "# Question 84\n",
    "---\n",
    "> By using list comprehension, please write a program generate a 3 * 5 * 8 3D array whose each element is 0.\n",
    "\n",
    "### Hints\n",
    ">Use list comprehension to make an array."
   ]
  },
  {
   "cell_type": "code",
   "execution_count": 9,
   "id": "1338bc57-22d7-4641-932f-d998849dbf1f",
   "metadata": {},
   "outputs": [
    {
     "name": "stdout",
     "output_type": "stream",
     "text": [
      "[[[0, 0, 0, 0, 0, 0, 0, 0], [0, 0, 0, 0, 0, 0, 0, 0], [0, 0, 0, 0, 0, 0, 0, 0], [0, 0, 0, 0, 0, 0, 0, 0], [0, 0, 0, 0, 0, 0, 0, 0]], [[0, 0, 0, 0, 0, 0, 0, 0], [0, 0, 0, 0, 0, 0, 0, 0], [0, 0, 0, 0, 0, 0, 0, 0], [0, 0, 0, 0, 0, 0, 0, 0], [0, 0, 0, 0, 0, 0, 0, 0]], [[0, 0, 0, 0, 0, 0, 0, 0], [0, 0, 0, 0, 0, 0, 0, 0], [0, 0, 0, 0, 0, 0, 0, 0], [0, 0, 0, 0, 0, 0, 0, 0], [0, 0, 0, 0, 0, 0, 0, 0]]]\n"
     ]
    }
   ],
   "source": [
    "lst=[[[0 for i in range(8)] for i in range(5)] for i in range(3)]\n",
    "print(lst)"
   ]
  },
  {
   "cell_type": "code",
   "execution_count": null,
   "id": "89da647e-68da-44e7-8527-fb3943826aca",
   "metadata": {},
   "outputs": [],
   "source": []
  }
 ],
 "metadata": {
  "kernelspec": {
   "display_name": "Python 3 (ipykernel)",
   "language": "python",
   "name": "python3"
  },
  "language_info": {
   "codemirror_mode": {
    "name": "ipython",
    "version": 3
   },
   "file_extension": ".py",
   "mimetype": "text/x-python",
   "name": "python",
   "nbconvert_exporter": "python",
   "pygments_lexer": "ipython3",
   "version": "3.12.4"
  }
 },
 "nbformat": 4,
 "nbformat_minor": 5
}
