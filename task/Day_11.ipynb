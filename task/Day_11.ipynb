{
 "cells": [
  {
   "cell_type": "markdown",
   "id": "8b5bced7-a3b0-431c-8974-a1f18551907c",
   "metadata": {},
   "source": [
    "# Question 38\n",
    "---\n",
    ">With a given tuple (1,2,3,4,5,6,7,8,9,10), write a program to print the first half values in one line and the last half values in one line."
   ]
  },
  {
   "cell_type": "code",
   "execution_count": 1,
   "id": "98235323-5ebe-461c-9e5e-42bc1d6b0d9d",
   "metadata": {},
   "outputs": [
    {
     "name": "stdout",
     "output_type": "stream",
     "text": [
      "(1, 2, 3, 4, 5)\n",
      "(6, 7, 8, 9, 10)\n"
     ]
    }
   ],
   "source": [
    "t=(1,2,3,4,5,6,7,8,9,10)\n",
    "print(t[:round(len(t)/2)])\n",
    "print(t[round(len(t)/2):])"
   ]
  },
  {
   "cell_type": "markdown",
   "id": "f516b9bb-e3a5-4546-afaa-9e4bac4ba753",
   "metadata": {},
   "source": [
    "# Question 39\n",
    "---\n",
    ">Write a program to generate and print another tuple whose values are even numbers in the given tuple (1,2,3,4,5,6,7,8,9,10)."
   ]
  },
  {
   "cell_type": "code",
   "execution_count": 5,
   "id": "f5341087-da8f-44ec-8d32-127d749b9949",
   "metadata": {},
   "outputs": [
    {
     "name": "stdout",
     "output_type": "stream",
     "text": [
      "(2, 4, 6, 8, 10)\n"
     ]
    }
   ],
   "source": [
    "t=(1,2,3,4,5,6,7,8,9,10)\n",
    "tpl=tuple([i for i in t if i%2==0])\n",
    "print(tpl)"
   ]
  },
  {
   "cell_type": "markdown",
   "id": "f177b05f-f2e6-461b-96a6-5b1c08782678",
   "metadata": {},
   "source": [
    "# Question 40\n",
    "---\n",
    "> Write a program which accepts a string as input to print \"Yes\" if the string is \"yes\" or \"YES\" or \"Yes\", otherwise print \"No\"."
   ]
  },
  {
   "cell_type": "code",
   "execution_count": 6,
   "id": "d8a1d429-ab12-4cc5-bad3-c2ead8a89635",
   "metadata": {},
   "outputs": [
    {
     "name": "stdin",
     "output_type": "stream",
     "text": [
      " Yes\n"
     ]
    },
    {
     "name": "stdout",
     "output_type": "stream",
     "text": [
      "Yes\n"
     ]
    }
   ],
   "source": [
    "input=input()\n",
    "output=''.join(['Yes' if input==\"yes\" or input==\"Yes\" or input==\"YES\" else \"No\"])\n",
    "print(output)"
   ]
  },
  {
   "cell_type": "markdown",
   "id": "e160bdf5-3393-405a-99a4-56f7b5d917ac",
   "metadata": {},
   "source": [
    "# Question 41\n",
    "---\n",
    "> Write a program which can map() to make a list whose elements are square of elements in [1,2,3,4,5,6,7,8,9,10]."
   ]
  },
  {
   "cell_type": "code",
   "execution_count": 8,
   "id": "c86374cc-d2c9-4365-a231-1f139185c616",
   "metadata": {},
   "outputs": [
    {
     "name": "stdout",
     "output_type": "stream",
     "text": [
      "[1, 4, 9, 16, 25, 36, 49, 64, 81, 100]\n"
     ]
    }
   ],
   "source": [
    "li=[1,2,3,4,5,6,7,8,9,10]\n",
    "li=map(lambda x :x**2,li)\n",
    "print(list(li))"
   ]
  },
  {
   "cell_type": "markdown",
   "id": "b1adf0f4-2d05-4e7d-b1df-157c2b205ebc",
   "metadata": {},
   "source": [
    "# Question 42\n",
    "---\n",
    ">Write a program which can map() and filter() to make a list whose elements are square of even number in [1,2,3,4,5,6,7,8,9,10]."
   ]
  },
  {
   "cell_type": "code",
   "execution_count": 10,
   "id": "64a94152-1bb6-4503-84ee-50c3536d264d",
   "metadata": {},
   "outputs": [
    {
     "name": "stdout",
     "output_type": "stream",
     "text": [
      "[4, 16, 36, 64, 100]\n"
     ]
    }
   ],
   "source": [
    "li=[1,2,3,4,5,6,7,8,9,10]\n",
    "li=filter(lambda x: x%2==0,list(map(lambda x :x**2,li)))\n",
    "print(list(li))"
   ]
  },
  {
   "cell_type": "markdown",
   "id": "c3f340a3-9f85-4dfe-90fa-f84de976721d",
   "metadata": {},
   "source": [
    "# Question 43\n",
    "---\n",
    "> Write a program which can filter() to make a list whose elements are even number between 1 and 20 (both included)."
   ]
  },
  {
   "cell_type": "code",
   "execution_count": 12,
   "id": "388476e3-c203-4287-befb-ac0b2edc9d07",
   "metadata": {},
   "outputs": [
    {
     "name": "stdout",
     "output_type": "stream",
     "text": [
      "[2, 4, 6, 8, 10, 12, 14, 16, 18, 20]\n"
     ]
    }
   ],
   "source": [
    "print(list(filter(lambda x:x%2==0,[i for i in range(1,21)])))"
   ]
  },
  {
   "cell_type": "code",
   "execution_count": null,
   "id": "928829bf-6d89-4ed0-a939-220b6945df72",
   "metadata": {},
   "outputs": [],
   "source": []
  }
 ],
 "metadata": {
  "kernelspec": {
   "display_name": "Python 3 (ipykernel)",
   "language": "python",
   "name": "python3"
  },
  "language_info": {
   "codemirror_mode": {
    "name": "ipython",
    "version": 3
   },
   "file_extension": ".py",
   "mimetype": "text/x-python",
   "name": "python",
   "nbconvert_exporter": "python",
   "pygments_lexer": "ipython3",
   "version": "3.12.4"
  }
 },
 "nbformat": 4,
 "nbformat_minor": 5
}
