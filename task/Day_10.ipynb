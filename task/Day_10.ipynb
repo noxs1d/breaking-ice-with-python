{
 "cells": [
  {
   "cell_type": "markdown",
   "id": "f1c2e4c7-0a0a-4a2d-b74e-4447e48d764f",
   "metadata": {},
   "source": [
    "# Question 31\n",
    "---\n",
    ">Define a function which can print a dictionary where the keys are numbers between 1 and 20 (both included) and the values are square of keys."
   ]
  },
  {
   "cell_type": "code",
   "execution_count": 3,
   "id": "a1413e35-f6ec-44ad-86e5-a823dd9e0105",
   "metadata": {},
   "outputs": [
    {
     "name": "stdout",
     "output_type": "stream",
     "text": [
      "{1: 1, 2: 4, 3: 9, 4: 16, 5: 25, 6: 36, 7: 49, 8: 64, 9: 81, 10: 100, 11: 121, 12: 144, 13: 169, 14: 196, 15: 225, 16: 256, 17: 289, 18: 324, 19: 361, 20: 400}\n"
     ]
    }
   ],
   "source": [
    "def func():\n",
    "    dct={i:i**2 for i in range(1,21)}\n",
    "    print(dct)\n",
    "func()"
   ]
  },
  {
   "cell_type": "markdown",
   "id": "adcc975c-b808-4bd2-b9f4-71b1b1a9ab34",
   "metadata": {},
   "source": [
    "# Question 32\n",
    "---\n",
    ">Define a function which can generate a dictionary where the keys are numbers between 1 and 20 (both included) and the values are square of keys. The function should just print the keys only.\n"
   ]
  },
  {
   "cell_type": "code",
   "execution_count": 4,
   "id": "c6f91875-f21f-4214-ab8c-3cadd4f325bb",
   "metadata": {},
   "outputs": [
    {
     "name": "stdout",
     "output_type": "stream",
     "text": [
      "dict_keys([1, 2, 3, 4, 5, 6, 7, 8, 9, 10, 11, 12, 13, 14, 15, 16, 17, 18, 19, 20])\n"
     ]
    }
   ],
   "source": [
    "def func():\n",
    "    dct={i:i**2 for i in range(1,21)}\n",
    "    print(dct.keys())\n",
    "func()"
   ]
  },
  {
   "cell_type": "markdown",
   "id": "b1b8da4c-46e7-406c-a96d-4b96b2e289e0",
   "metadata": {},
   "source": [
    "# Question 33\n",
    "---\n",
    ">Define a function which can generate and print a list where the values are square of numbers between 1 and 20 (both included)."
   ]
  },
  {
   "cell_type": "code",
   "execution_count": 6,
   "id": "eff42ad4-2d3a-4452-81a1-c1087e9546e8",
   "metadata": {},
   "outputs": [
    {
     "name": "stdout",
     "output_type": "stream",
     "text": [
      "[1, 4, 9, 16, 25, 36, 49, 64, 81, 100, 121, 144, 169, 196, 225, 256, 289, 324, 361, 400]\n"
     ]
    }
   ],
   "source": [
    "def lstfunc():\n",
    "    lst=[i**2 for i in range(1,21)]\n",
    "    print(lst)\n",
    "lstfunc()"
   ]
  },
  {
   "cell_type": "markdown",
   "id": "0e9e9f73-9fc9-41a8-9488-4ea527342931",
   "metadata": {},
   "source": [
    "# Question 34\n",
    "---\n",
    ">Define a function which can generate a list where the values are square of numbers between 1 and 20 (both included). Then the function needs to print the first 5 elements in the list."
   ]
  },
  {
   "cell_type": "code",
   "execution_count": 7,
   "id": "310de4ce-667d-4b1d-8d00-e4727c77a4a7",
   "metadata": {},
   "outputs": [
    {
     "name": "stdout",
     "output_type": "stream",
     "text": [
      "[1, 4, 9, 16, 25]\n"
     ]
    }
   ],
   "source": [
    "def printlst():\n",
    "    lst=[i**2 for i in range(1,21)]\n",
    "    print(lst[:5])\n",
    "\n",
    "printlst()"
   ]
  },
  {
   "cell_type": "markdown",
   "id": "a6203a5c-936a-4394-994e-56454eb2694c",
   "metadata": {},
   "source": [
    "# Question 35\n",
    "---\n",
    ">Define a function which can generate a list where the values are square of numbers between 1 and 20 (both included). Then the function needs to print the last 5 elements in the list."
   ]
  },
  {
   "cell_type": "code",
   "execution_count": 9,
   "id": "d1513f66-0a06-48bb-9da8-a82c742d6741",
   "metadata": {},
   "outputs": [
    {
     "name": "stdout",
     "output_type": "stream",
     "text": [
      "[256, 289, 324, 361, 400]\n"
     ]
    }
   ],
   "source": [
    "def printlst():\n",
    "    lst=[i**2 for i in range(1,21)]\n",
    "    print(lst[-5:])\n",
    "\n",
    "printlst()"
   ]
  },
  {
   "cell_type": "markdown",
   "id": "877dae31-d028-4594-997e-4abb1273fe39",
   "metadata": {},
   "source": [
    "# Question 36\n",
    "---\n",
    ">Define a function which can generate a list where the values are square of numbers between 1 and 20 (both included). Then the function needs to print all values except the first 5 elements in the list."
   ]
  },
  {
   "cell_type": "code",
   "execution_count": 10,
   "id": "8767b83f-2274-4f2a-9421-70d6f536a14e",
   "metadata": {},
   "outputs": [
    {
     "name": "stdout",
     "output_type": "stream",
     "text": [
      "[36, 49, 64, 81, 100, 121, 144, 169, 196, 225, 256, 289, 324, 361, 400]\n"
     ]
    }
   ],
   "source": [
    "def printlst():\n",
    "    lst=[i**2 for i in range(1,21)]\n",
    "    print(lst[5:])\n",
    "\n",
    "printlst()"
   ]
  },
  {
   "cell_type": "markdown",
   "id": "a3fa8e2d-a0e1-40a6-af74-7edb9e4018d1",
   "metadata": {},
   "source": [
    "# Question 37\n",
    "---\n",
    ">Define a function which can generate and print a tuple where the value are square of numbers between 1 and 20 (both included)."
   ]
  },
  {
   "cell_type": "code",
   "execution_count": 14,
   "id": "360b165e-def8-4ce6-949c-24bdccce5feb",
   "metadata": {},
   "outputs": [
    {
     "name": "stdout",
     "output_type": "stream",
     "text": [
      "(1, 4, 9, 16, 25, 36, 49, 64, 81, 100, 121, 144, 169, 196, 225, 256, 289, 324, 361, 400)\n"
     ]
    }
   ],
   "source": [
    "def printlst():\n",
    "    return tuple(i**2 for i in range(1,21))\n",
    "    \n",
    "print(printlst())"
   ]
  },
  {
   "cell_type": "code",
   "execution_count": null,
   "id": "20e8688c-82aa-4ce8-9604-ef94d64ce348",
   "metadata": {},
   "outputs": [],
   "source": []
  }
 ],
 "metadata": {
  "kernelspec": {
   "display_name": "Python 3 (ipykernel)",
   "language": "python",
   "name": "python3"
  },
  "language_info": {
   "codemirror_mode": {
    "name": "ipython",
    "version": 3
   },
   "file_extension": ".py",
   "mimetype": "text/x-python",
   "name": "python",
   "nbconvert_exporter": "python",
   "pygments_lexer": "ipython3",
   "version": "3.12.4"
  }
 },
 "nbformat": 4,
 "nbformat_minor": 5
}
