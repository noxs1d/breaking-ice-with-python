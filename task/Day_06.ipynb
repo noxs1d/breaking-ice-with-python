{
 "cells": [
  {
   "cell_type": "markdown",
   "id": "a38350c8-247a-48aa-bd0a-ed7194d609a5",
   "metadata": {},
   "source": [
    "# Question 18\n",
    "---\n",
    ">A website requires the users to input username and password to register. Write a program to check the validity of password input by users.\n",
    "\n",
    ">Following are the criteria for checking the password:\n",
    "\n",
    "- At least 1 letter between [a-z]\n",
    "- At least 1 number between [0-9]\n",
    "- At least 1 letter between [A-Z]\n",
    "- At least 1 character from [$#@]\n",
    "- Minimum length of transaction password: 6\n",
    "- Maximum length of transaction password: 12\n",
    "\n",
    ">Your program should accept a sequence of comma separated passwords and will check them according to the above criteria. Passwords that match the criteria are to be printed, each separated by a comma.\n",
    "\n",
    "### Example\n",
    "\n",
    ">If the following passwords are given as input to the program:\n",
    "\n",
    "```ABd1234@1,a F1#,2w3E*,2We3345```\n",
    "\n",
    ">Then, the output of the program should be:\n",
    "\n",
    "```ABd1234@1```"
   ]
  },
  {
   "cell_type": "code",
   "execution_count": 1,
   "id": "671740b4-dc22-4faf-b941-f1c07bfa3890",
   "metadata": {},
   "outputs": [
    {
     "name": "stdin",
     "output_type": "stream",
     "text": [
      " ABd1234@1,a F1#,2w3E*,2We3345\n"
     ]
    },
    {
     "name": "stdout",
     "output_type": "stream",
     "text": [
      "ABd1234@1\n"
     ]
    }
   ],
   "source": [
    "import re\n",
    "passwords= input().split(',')\n",
    "valid=[]\n",
    "for password in passwords:\n",
    "    cnt=0\n",
    "    cnt+=(6<=len(password) and len(password)<=12)\n",
    "    cnt+=bool(re.search('[a-z]',password))\n",
    "    cnt+=bool(re.search('[A-Z]',password))\n",
    "    cnt+=bool(re.search('[0-9]',password))\n",
    "    cnt+=bool(re.search('[@#$]',password))\n",
    "    if cnt==5:\n",
    "        valid.append(password)\n",
    "\n",
    "print(', '.join(valid))"
   ]
  },
  {
   "cell_type": "markdown",
   "id": "069d100b-9932-4cff-bc29-01eb1f401bd6",
   "metadata": {},
   "source": [
    "# Question 19\n",
    "---\n",
    ">You are required to write a program to sort the (name, age, score) tuples by ascending order where name is string, age and score are numbers. The tuples are input by console. The sort criteria is:\n",
    "\n",
    "- 1: Sort based on name\n",
    "- 2: Then sort based on age\n",
    "- 3: Then sort by score\n",
    "\n",
    ">The priority is that name > age > score.\n",
    "\n",
    ">If the following tuples are given as input to the program:\n",
    "\n",
    "```Tom,19,80```\n",
    "```John,20,90```\n",
    "```Jony,17,91```\n",
    "```Jony,17,93```\n",
    "```Json,21,85```\n",
    "\n",
    ">Then, the output of the program should be:\n",
    "\n",
    "```[('John', '20', '90'), ('Jony', '17', '91'), ('Jony', '17', '93'), ('Json', '21', '85'), ('Tom', '19', '80')]```"
   ]
  },
  {
   "cell_type": "code",
   "execution_count": 3,
   "id": "6f76b08e-94d2-44a2-a935-49bc5b327e20",
   "metadata": {},
   "outputs": [
    {
     "name": "stdin",
     "output_type": "stream",
     "text": [
      " Tom,19,80\n",
      " John,20,90\n",
      " Jony,17,91\n",
      " Jony,17,93\n",
      " Json,21,85\n",
      " \n"
     ]
    },
    {
     "name": "stdout",
     "output_type": "stream",
     "text": [
      "[('John', '20', '90'), ('Jony', '17', '91'), ('Jony', '17', '93'), ('Json', '21', '85'), ('Tom', '19', '80')]\n"
     ]
    }
   ],
   "source": [
    "lst=[]\n",
    "while True:\n",
    "    s=input().split(',')\n",
    "    if not s[0]:\n",
    "        break\n",
    "    lst.append(tuple(s))\n",
    "\n",
    "lst.sort(key= lambda x: (x[0],int(x[1]),int(x[2])))\n",
    "print(lst)"
   ]
  },
  {
   "cell_type": "code",
   "execution_count": null,
   "id": "6713fda5-44db-4cb0-8c7f-86639248a974",
   "metadata": {},
   "outputs": [],
   "source": []
  }
 ],
 "metadata": {
  "kernelspec": {
   "display_name": "Python 3 (ipykernel)",
   "language": "python",
   "name": "python3"
  },
  "language_info": {
   "codemirror_mode": {
    "name": "ipython",
    "version": 3
   },
   "file_extension": ".py",
   "mimetype": "text/x-python",
   "name": "python",
   "nbconvert_exporter": "python",
   "pygments_lexer": "ipython3",
   "version": "3.12.4"
  }
 },
 "nbformat": 4,
 "nbformat_minor": 5
}
